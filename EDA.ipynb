{
 "cells": [
  {
   "cell_type": "markdown",
   "metadata": {},
   "source": [
    "# EDA"
   ]
  },
  {
   "cell_type": "markdown",
   "metadata": {},
   "source": [
    "El Análisis Exploratorio de Datos (EDA) es una etapa esencial en cualquier proyecto de análisis de datos, especialmente cuando se trata de la seguridad vial en una ciudad como Buenos Aires. En este proceso, exploramos a fondo los datos relacionados con accidentes de tránsito para descubrir tendencias, patrones y factores que influyen en la cantidad de víctimas fatales.\n",
    "\n",
    "Nos centraremos en identificar relaciones clave entre las distintas variables y las víctimas fatales, con el objetivo de ofrecer información útil a las autoridades responsables de la seguridad vial. Utilizando técnicas de visualización, estadísticas descriptivas y comparaciones entre datos, buscamos extraer conclusiones que apoyen la toma de decisiones informadas y la adopción de medidas preventivas más efectivas.\n",
    "\n",
    "El propósito final de este análisis es contribuir a la disminución de las víctimas fatales en accidentes de tránsito en Buenos Aires, promoviendo así un entorno vial más seguro y protegiendo la vida de los ciudadanos."
   ]
  },
  {
   "cell_type": "markdown",
   "metadata": {},
   "source": [
    "---------------------------------------------------------------------------------------------------------"
   ]
  },
  {
   "cell_type": "markdown",
   "metadata": {},
   "source": [
    "Se importan las librerías necesarias para realizar la carga de las tablas, las transformaciones necesarias y el análisis exploratorio de los datos."
   ]
  },
  {
   "cell_type": "code",
   "execution_count": 1,
   "metadata": {},
   "outputs": [],
   "source": [
    "import pandas as pd\n",
    "import numpy as np\n",
    "import funciones\n",
    "%load_ext autoreload\n",
    "%autoreload 2\n",
    "import warnings\n",
    "warnings.filterwarnings(\"ignore\")"
   ]
  },
  {
   "cell_type": "markdown",
   "metadata": {},
   "source": [
    "El Dataset utilizado para este análisis, lo componen dos hojas, la primera de Hechos y la segunda de Víctimas. Se dará inicio con la carga y transformación de la tabla Hechos, seguido de la tabla Víctimas:"
   ]
  },
  {
   "cell_type": "markdown",
   "metadata": {},
   "source": [
    "### 1. Tabla de Hechos"
   ]
  },
  {
   "cell_type": "markdown",
   "metadata": {},
   "source": [
    "Carga de los datos, utilizando la librería pandas y openpyxl."
   ]
  },
  {
   "cell_type": "code",
   "execution_count": 2,
   "metadata": {},
   "outputs": [
    {
     "data": {
      "text/html": [
       "<div>\n",
       "<style scoped>\n",
       "    .dataframe tbody tr th:only-of-type {\n",
       "        vertical-align: middle;\n",
       "    }\n",
       "\n",
       "    .dataframe tbody tr th {\n",
       "        vertical-align: top;\n",
       "    }\n",
       "\n",
       "    .dataframe thead th {\n",
       "        text-align: right;\n",
       "    }\n",
       "</style>\n",
       "<table border=\"1\" class=\"dataframe\">\n",
       "  <thead>\n",
       "    <tr style=\"text-align: right;\">\n",
       "      <th></th>\n",
       "      <th>ID</th>\n",
       "      <th>N_VICTIMAS</th>\n",
       "      <th>FECHA</th>\n",
       "      <th>AAAA</th>\n",
       "      <th>MM</th>\n",
       "      <th>DD</th>\n",
       "      <th>HORA</th>\n",
       "      <th>HH</th>\n",
       "      <th>LUGAR_DEL_HECHO</th>\n",
       "      <th>TIPO_DE_CALLE</th>\n",
       "      <th>...</th>\n",
       "      <th>Altura</th>\n",
       "      <th>Cruce</th>\n",
       "      <th>Dirección Normalizada</th>\n",
       "      <th>COMUNA</th>\n",
       "      <th>XY (CABA)</th>\n",
       "      <th>pos x</th>\n",
       "      <th>pos y</th>\n",
       "      <th>PARTICIPANTES</th>\n",
       "      <th>VICTIMA</th>\n",
       "      <th>ACUSADO</th>\n",
       "    </tr>\n",
       "  </thead>\n",
       "  <tbody>\n",
       "    <tr>\n",
       "      <th>0</th>\n",
       "      <td>2016-0001</td>\n",
       "      <td>1</td>\n",
       "      <td>2016-01-01</td>\n",
       "      <td>2016</td>\n",
       "      <td>1</td>\n",
       "      <td>1</td>\n",
       "      <td>04:00:00</td>\n",
       "      <td>4</td>\n",
       "      <td>AV PIEDRA BUENA Y AV FERNANDEZ DE LA CRUZ</td>\n",
       "      <td>AVENIDA</td>\n",
       "      <td>...</td>\n",
       "      <td>NaN</td>\n",
       "      <td>FERNANDEZ DE LA CRUZ, F., GRAL. AV.</td>\n",
       "      <td>PIEDRA BUENA AV. y FERNANDEZ DE LA CRUZ, F., G...</td>\n",
       "      <td>8</td>\n",
       "      <td>Point (98896.78238426 93532.43437792)</td>\n",
       "      <td>-58.47533969</td>\n",
       "      <td>-34.68757022</td>\n",
       "      <td>MOTO-AUTO</td>\n",
       "      <td>MOTO</td>\n",
       "      <td>AUTO</td>\n",
       "    </tr>\n",
       "    <tr>\n",
       "      <th>1</th>\n",
       "      <td>2016-0002</td>\n",
       "      <td>1</td>\n",
       "      <td>2016-01-02</td>\n",
       "      <td>2016</td>\n",
       "      <td>1</td>\n",
       "      <td>2</td>\n",
       "      <td>01:15:00</td>\n",
       "      <td>1</td>\n",
       "      <td>AV GRAL PAZ  Y AV DE LOS CORRALES</td>\n",
       "      <td>GRAL PAZ</td>\n",
       "      <td>...</td>\n",
       "      <td>NaN</td>\n",
       "      <td>DE LOS CORRALES AV.</td>\n",
       "      <td>PAZ, GRAL. AV. y DE LOS CORRALES AV.</td>\n",
       "      <td>9</td>\n",
       "      <td>Point (95832.05571093 95505.41641999)</td>\n",
       "      <td>-58.50877521</td>\n",
       "      <td>-34.66977709</td>\n",
       "      <td>AUTO-PASAJEROS</td>\n",
       "      <td>AUTO</td>\n",
       "      <td>PASAJEROS</td>\n",
       "    </tr>\n",
       "    <tr>\n",
       "      <th>2</th>\n",
       "      <td>2016-0003</td>\n",
       "      <td>1</td>\n",
       "      <td>2016-01-03</td>\n",
       "      <td>2016</td>\n",
       "      <td>1</td>\n",
       "      <td>3</td>\n",
       "      <td>07:00:00</td>\n",
       "      <td>7</td>\n",
       "      <td>AV ENTRE RIOS 2034</td>\n",
       "      <td>AVENIDA</td>\n",
       "      <td>...</td>\n",
       "      <td>2034.0</td>\n",
       "      <td>NaN</td>\n",
       "      <td>ENTRE RIOS AV. 2034</td>\n",
       "      <td>1</td>\n",
       "      <td>Point (106684.29090040 99706.57687843)</td>\n",
       "      <td>-58.39040293</td>\n",
       "      <td>-34.63189362</td>\n",
       "      <td>MOTO-AUTO</td>\n",
       "      <td>MOTO</td>\n",
       "      <td>AUTO</td>\n",
       "    </tr>\n",
       "  </tbody>\n",
       "</table>\n",
       "<p>3 rows × 21 columns</p>\n",
       "</div>"
      ],
      "text/plain": [
       "          ID  N_VICTIMAS      FECHA  AAAA  MM  DD      HORA HH  \\\n",
       "0  2016-0001           1 2016-01-01  2016   1   1  04:00:00  4   \n",
       "1  2016-0002           1 2016-01-02  2016   1   2  01:15:00  1   \n",
       "2  2016-0003           1 2016-01-03  2016   1   3  07:00:00  7   \n",
       "\n",
       "                             LUGAR_DEL_HECHO TIPO_DE_CALLE  ...  Altura  \\\n",
       "0  AV PIEDRA BUENA Y AV FERNANDEZ DE LA CRUZ       AVENIDA  ...     NaN   \n",
       "1          AV GRAL PAZ  Y AV DE LOS CORRALES      GRAL PAZ  ...     NaN   \n",
       "2                         AV ENTRE RIOS 2034       AVENIDA  ...  2034.0   \n",
       "\n",
       "                                 Cruce  \\\n",
       "0  FERNANDEZ DE LA CRUZ, F., GRAL. AV.   \n",
       "1                  DE LOS CORRALES AV.   \n",
       "2                                  NaN   \n",
       "\n",
       "                               Dirección Normalizada COMUNA  \\\n",
       "0  PIEDRA BUENA AV. y FERNANDEZ DE LA CRUZ, F., G...      8   \n",
       "1               PAZ, GRAL. AV. y DE LOS CORRALES AV.      9   \n",
       "2                                ENTRE RIOS AV. 2034      1   \n",
       "\n",
       "                                XY (CABA)         pos x         pos y  \\\n",
       "0   Point (98896.78238426 93532.43437792)  -58.47533969  -34.68757022   \n",
       "1   Point (95832.05571093 95505.41641999)  -58.50877521  -34.66977709   \n",
       "2  Point (106684.29090040 99706.57687843)  -58.39040293  -34.63189362   \n",
       "\n",
       "    PARTICIPANTES VICTIMA    ACUSADO  \n",
       "0       MOTO-AUTO    MOTO       AUTO  \n",
       "1  AUTO-PASAJEROS    AUTO  PASAJEROS  \n",
       "2       MOTO-AUTO    MOTO       AUTO  \n",
       "\n",
       "[3 rows x 21 columns]"
      ]
     },
     "execution_count": 2,
     "metadata": {},
     "output_type": "execute_result"
    }
   ],
   "source": [
    "df_hechos= pd.read_excel('homicidios.xlsx', sheet_name='HECHOS')\n",
    "df_hechos.head(3)"
   ]
  },
  {
   "cell_type": "markdown",
   "metadata": {},
   "source": [
    "Se visualizan las columnas que componen esta tabla: 21 columnas."
   ]
  },
  {
   "cell_type": "code",
   "execution_count": 3,
   "metadata": {},
   "outputs": [
    {
     "data": {
      "text/plain": [
       "Index(['ID', 'N_VICTIMAS', 'FECHA', 'AAAA', 'MM', 'DD', 'HORA', 'HH',\n",
       "       'LUGAR_DEL_HECHO', 'TIPO_DE_CALLE', 'Calle', 'Altura', 'Cruce',\n",
       "       'Dirección Normalizada', 'COMUNA', 'XY (CABA)', 'pos x', 'pos y',\n",
       "       'PARTICIPANTES', 'VICTIMA', 'ACUSADO'],\n",
       "      dtype='object')"
      ]
     },
     "execution_count": 3,
     "metadata": {},
     "output_type": "execute_result"
    }
   ],
   "source": [
    "df_hechos.columns"
   ]
  },
  {
   "cell_type": "markdown",
   "metadata": {},
   "source": [
    "Normalización de los nombres de las columnas, para que todas queden en un mismo formato."
   ]
  },
  {
   "cell_type": "code",
   "execution_count": 4,
   "metadata": {},
   "outputs": [
    {
     "data": {
      "text/plain": [
       "Index(['Id', 'Cantidad víctimas', 'Fecha', 'Año', 'Mes', 'Día',\n",
       "       'Hora completa', 'Hora', 'Lugar del hecho', 'Tipo de calle', 'Calle',\n",
       "       'Altura', 'Cruce', 'Dirección normalizada', 'Comuna', 'XY (CABA)',\n",
       "       'Pos X', 'Pos Y', 'Participantes', 'Víctima', 'Acusado'],\n",
       "      dtype='object')"
      ]
     },
     "execution_count": 4,
     "metadata": {},
     "output_type": "execute_result"
    }
   ],
   "source": [
    "# Se coloca la primera en mayúscula\n",
    "df_hechos.columns = [x.capitalize() for x in df_hechos.columns]\n",
    "\n",
    "# Se reemplazan los guiones por espacios\n",
    "df_hechos.columns = df_hechos.columns.str.replace('_', ' ')\n",
    "\n",
    "# Se renombran algunas columnas\n",
    "df_hechos = df_hechos.rename(columns={'N victimas':'Cantidad víctimas',\n",
    "                                      'Aaaa':'Año',\n",
    "                                      'Mm':'Mes',\n",
    "                                      'Dd':'Día',\n",
    "                                      'Hora':'Hora completa',\n",
    "                                      'Hh':'Hora',\n",
    "                                      'Xy (caba)':'XY (CABA)',\n",
    "                                      'Pos x':'Pos X',\n",
    "                                      'Pos y':'Pos Y',\n",
    "                                      'Victima':'Víctima'})\n",
    "df_hechos.columns"
   ]
  },
  {
   "cell_type": "markdown",
   "metadata": {},
   "source": [
    "El número total de registros o filas que contiene la tabla Hechos son 696."
   ]
  },
  {
   "cell_type": "code",
   "execution_count": 5,
   "metadata": {},
   "outputs": [
    {
     "data": {
      "text/plain": [
       "696"
      ]
     },
     "execution_count": 5,
     "metadata": {},
     "output_type": "execute_result"
    }
   ],
   "source": [
    "df_hechos.shape[0]"
   ]
  },
  {
   "cell_type": "markdown",
   "metadata": {},
   "source": [
    "#### 1.1 Chequeo de Nulos:"
   ]
  },
  {
   "cell_type": "markdown",
   "metadata": {},
   "source": [
    "Los valores nulos encontrados se ubican en las columnas de 'Calle', 'Altura', 'Cruce' y 'Dirección normalizada'. Se puede observar que los valores nulos de la columna 'Altura' representan un 81.47% del total de sus datos, debido a que este dato se completa cuando el hecho ocurre en algún punto de la calle (altura de la calle) y la mayoría de los hechos registrados ocurrieron en esquinas. Por este motivo, se considera que no es un dato relevante para el análisis y se decide eliminarlo del conjunto. La siguiente columna con más valores nulos es 'Cruce', esta variable no tiene dato cuando se trata de un hecho ocurrido a la altura de una calle, puede ser interesante para evaluar si los hechos ocurren en esquinas o en algún punto de la cuadra."
   ]
  },
  {
   "cell_type": "code",
   "execution_count": 6,
   "metadata": {},
   "outputs": [
    {
     "data": {
      "text/plain": [
       "Id                         0\n",
       "Cantidad víctimas          0\n",
       "Fecha                      0\n",
       "Año                        0\n",
       "Mes                        0\n",
       "Día                        0\n",
       "Hora completa              0\n",
       "Hora                       0\n",
       "Lugar del hecho            0\n",
       "Tipo de calle              0\n",
       "Calle                      1\n",
       "Altura                   567\n",
       "Cruce                    171\n",
       "Dirección normalizada      8\n",
       "Comuna                     0\n",
       "XY (CABA)                  0\n",
       "Pos X                      0\n",
       "Pos Y                      0\n",
       "Participantes              0\n",
       "Víctima                    0\n",
       "Acusado                    0\n",
       "dtype: int64"
      ]
     },
     "execution_count": 6,
     "metadata": {},
     "output_type": "execute_result"
    }
   ],
   "source": [
    "df_hechos.isnull().sum()"
   ]
  },
  {
   "cell_type": "code",
   "execution_count": 7,
   "metadata": {},
   "outputs": [
    {
     "data": {
      "text/plain": [
       "81.46551724137932"
      ]
     },
     "execution_count": 7,
     "metadata": {},
     "output_type": "execute_result"
    }
   ],
   "source": [
    "# Porcentaje nulos de la columna Altura\n",
    "nulos_altura = (567 * 100)/df_hechos.shape[0]\n",
    "nulos_altura"
   ]
  },
  {
   "cell_type": "code",
   "execution_count": 8,
   "metadata": {},
   "outputs": [
    {
     "data": {
      "text/html": [
       "<div>\n",
       "<style scoped>\n",
       "    .dataframe tbody tr th:only-of-type {\n",
       "        vertical-align: middle;\n",
       "    }\n",
       "\n",
       "    .dataframe tbody tr th {\n",
       "        vertical-align: top;\n",
       "    }\n",
       "\n",
       "    .dataframe thead th {\n",
       "        text-align: right;\n",
       "    }\n",
       "</style>\n",
       "<table border=\"1\" class=\"dataframe\">\n",
       "  <thead>\n",
       "    <tr style=\"text-align: right;\">\n",
       "      <th></th>\n",
       "      <th>Id</th>\n",
       "      <th>Cantidad víctimas</th>\n",
       "      <th>Fecha</th>\n",
       "      <th>Año</th>\n",
       "      <th>Mes</th>\n",
       "      <th>Día</th>\n",
       "      <th>Hora completa</th>\n",
       "      <th>Hora</th>\n",
       "      <th>Lugar del hecho</th>\n",
       "      <th>Tipo de calle</th>\n",
       "      <th>Calle</th>\n",
       "      <th>Cruce</th>\n",
       "      <th>Dirección normalizada</th>\n",
       "      <th>Comuna</th>\n",
       "      <th>XY (CABA)</th>\n",
       "      <th>Pos X</th>\n",
       "      <th>Pos Y</th>\n",
       "      <th>Participantes</th>\n",
       "      <th>Víctima</th>\n",
       "      <th>Acusado</th>\n",
       "    </tr>\n",
       "  </thead>\n",
       "  <tbody>\n",
       "    <tr>\n",
       "      <th>0</th>\n",
       "      <td>2016-0001</td>\n",
       "      <td>1</td>\n",
       "      <td>2016-01-01</td>\n",
       "      <td>2016</td>\n",
       "      <td>1</td>\n",
       "      <td>1</td>\n",
       "      <td>04:00:00</td>\n",
       "      <td>4</td>\n",
       "      <td>AV PIEDRA BUENA Y AV FERNANDEZ DE LA CRUZ</td>\n",
       "      <td>AVENIDA</td>\n",
       "      <td>PIEDRA BUENA AV.</td>\n",
       "      <td>FERNANDEZ DE LA CRUZ, F., GRAL. AV.</td>\n",
       "      <td>PIEDRA BUENA AV. y FERNANDEZ DE LA CRUZ, F., G...</td>\n",
       "      <td>8</td>\n",
       "      <td>Point (98896.78238426 93532.43437792)</td>\n",
       "      <td>-58.47533969</td>\n",
       "      <td>-34.68757022</td>\n",
       "      <td>MOTO-AUTO</td>\n",
       "      <td>MOTO</td>\n",
       "      <td>AUTO</td>\n",
       "    </tr>\n",
       "    <tr>\n",
       "      <th>1</th>\n",
       "      <td>2016-0002</td>\n",
       "      <td>1</td>\n",
       "      <td>2016-01-02</td>\n",
       "      <td>2016</td>\n",
       "      <td>1</td>\n",
       "      <td>2</td>\n",
       "      <td>01:15:00</td>\n",
       "      <td>1</td>\n",
       "      <td>AV GRAL PAZ  Y AV DE LOS CORRALES</td>\n",
       "      <td>GRAL PAZ</td>\n",
       "      <td>PAZ, GRAL. AV.</td>\n",
       "      <td>DE LOS CORRALES AV.</td>\n",
       "      <td>PAZ, GRAL. AV. y DE LOS CORRALES AV.</td>\n",
       "      <td>9</td>\n",
       "      <td>Point (95832.05571093 95505.41641999)</td>\n",
       "      <td>-58.50877521</td>\n",
       "      <td>-34.66977709</td>\n",
       "      <td>AUTO-PASAJEROS</td>\n",
       "      <td>AUTO</td>\n",
       "      <td>PASAJEROS</td>\n",
       "    </tr>\n",
       "    <tr>\n",
       "      <th>2</th>\n",
       "      <td>2016-0003</td>\n",
       "      <td>1</td>\n",
       "      <td>2016-01-03</td>\n",
       "      <td>2016</td>\n",
       "      <td>1</td>\n",
       "      <td>3</td>\n",
       "      <td>07:00:00</td>\n",
       "      <td>7</td>\n",
       "      <td>AV ENTRE RIOS 2034</td>\n",
       "      <td>AVENIDA</td>\n",
       "      <td>ENTRE RIOS AV.</td>\n",
       "      <td>NaN</td>\n",
       "      <td>ENTRE RIOS AV. 2034</td>\n",
       "      <td>1</td>\n",
       "      <td>Point (106684.29090040 99706.57687843)</td>\n",
       "      <td>-58.39040293</td>\n",
       "      <td>-34.63189362</td>\n",
       "      <td>MOTO-AUTO</td>\n",
       "      <td>MOTO</td>\n",
       "      <td>AUTO</td>\n",
       "    </tr>\n",
       "    <tr>\n",
       "      <th>3</th>\n",
       "      <td>2016-0004</td>\n",
       "      <td>1</td>\n",
       "      <td>2016-01-10</td>\n",
       "      <td>2016</td>\n",
       "      <td>1</td>\n",
       "      <td>10</td>\n",
       "      <td>00:00:00</td>\n",
       "      <td>0</td>\n",
       "      <td>AV LARRAZABAL Y GRAL VILLEGAS CONRADO</td>\n",
       "      <td>AVENIDA</td>\n",
       "      <td>LARRAZABAL AV.</td>\n",
       "      <td>VILLEGAS, CONRADO, GRAL.</td>\n",
       "      <td>LARRAZABAL AV. y VILLEGAS, CONRADO, GRAL.</td>\n",
       "      <td>8</td>\n",
       "      <td>Point (99840.65224780 94269.16534422)</td>\n",
       "      <td>-58.46503904</td>\n",
       "      <td>-34.68092974</td>\n",
       "      <td>MOTO-SD</td>\n",
       "      <td>MOTO</td>\n",
       "      <td>SD</td>\n",
       "    </tr>\n",
       "    <tr>\n",
       "      <th>4</th>\n",
       "      <td>2016-0005</td>\n",
       "      <td>1</td>\n",
       "      <td>2016-01-21</td>\n",
       "      <td>2016</td>\n",
       "      <td>1</td>\n",
       "      <td>21</td>\n",
       "      <td>05:20:00</td>\n",
       "      <td>5</td>\n",
       "      <td>AV SAN JUAN Y PRESIDENTE LUIS SAENZ PEÑA</td>\n",
       "      <td>AVENIDA</td>\n",
       "      <td>SAN JUAN AV.</td>\n",
       "      <td>SAENZ PE?A, LUIS, PRES.</td>\n",
       "      <td>SAN JUAN AV. y SAENZ PEÃ‘A, LUIS, PRES.</td>\n",
       "      <td>1</td>\n",
       "      <td>Point (106980.32827929 100752.16915795)</td>\n",
       "      <td>-58.38718297</td>\n",
       "      <td>-34.62246630</td>\n",
       "      <td>MOTO-PASAJEROS</td>\n",
       "      <td>MOTO</td>\n",
       "      <td>PASAJEROS</td>\n",
       "    </tr>\n",
       "  </tbody>\n",
       "</table>\n",
       "</div>"
      ],
      "text/plain": [
       "          Id  Cantidad víctimas      Fecha   Año  Mes  Día Hora completa Hora  \\\n",
       "0  2016-0001                  1 2016-01-01  2016    1    1      04:00:00    4   \n",
       "1  2016-0002                  1 2016-01-02  2016    1    2      01:15:00    1   \n",
       "2  2016-0003                  1 2016-01-03  2016    1    3      07:00:00    7   \n",
       "3  2016-0004                  1 2016-01-10  2016    1   10      00:00:00    0   \n",
       "4  2016-0005                  1 2016-01-21  2016    1   21      05:20:00    5   \n",
       "\n",
       "                             Lugar del hecho Tipo de calle             Calle  \\\n",
       "0  AV PIEDRA BUENA Y AV FERNANDEZ DE LA CRUZ       AVENIDA  PIEDRA BUENA AV.   \n",
       "1          AV GRAL PAZ  Y AV DE LOS CORRALES      GRAL PAZ    PAZ, GRAL. AV.   \n",
       "2                         AV ENTRE RIOS 2034       AVENIDA    ENTRE RIOS AV.   \n",
       "3      AV LARRAZABAL Y GRAL VILLEGAS CONRADO       AVENIDA    LARRAZABAL AV.   \n",
       "4  AV SAN JUAN Y PRESIDENTE LUIS SAENZ PEÑA        AVENIDA      SAN JUAN AV.   \n",
       "\n",
       "                                 Cruce  \\\n",
       "0  FERNANDEZ DE LA CRUZ, F., GRAL. AV.   \n",
       "1                  DE LOS CORRALES AV.   \n",
       "2                                  NaN   \n",
       "3             VILLEGAS, CONRADO, GRAL.   \n",
       "4              SAENZ PE?A, LUIS, PRES.   \n",
       "\n",
       "                               Dirección normalizada  Comuna  \\\n",
       "0  PIEDRA BUENA AV. y FERNANDEZ DE LA CRUZ, F., G...       8   \n",
       "1               PAZ, GRAL. AV. y DE LOS CORRALES AV.       9   \n",
       "2                                ENTRE RIOS AV. 2034       1   \n",
       "3          LARRAZABAL AV. y VILLEGAS, CONRADO, GRAL.       8   \n",
       "4            SAN JUAN AV. y SAENZ PEÃ‘A, LUIS, PRES.       1   \n",
       "\n",
       "                                 XY (CABA)         Pos X         Pos Y  \\\n",
       "0    Point (98896.78238426 93532.43437792)  -58.47533969  -34.68757022   \n",
       "1    Point (95832.05571093 95505.41641999)  -58.50877521  -34.66977709   \n",
       "2   Point (106684.29090040 99706.57687843)  -58.39040293  -34.63189362   \n",
       "3    Point (99840.65224780 94269.16534422)  -58.46503904  -34.68092974   \n",
       "4  Point (106980.32827929 100752.16915795)  -58.38718297  -34.62246630   \n",
       "\n",
       "    Participantes Víctima    Acusado  \n",
       "0       MOTO-AUTO    MOTO       AUTO  \n",
       "1  AUTO-PASAJEROS    AUTO  PASAJEROS  \n",
       "2       MOTO-AUTO    MOTO       AUTO  \n",
       "3         MOTO-SD    MOTO         SD  \n",
       "4  MOTO-PASAJEROS    MOTO  PASAJEROS  "
      ]
     },
     "execution_count": 8,
     "metadata": {},
     "output_type": "execute_result"
    }
   ],
   "source": [
    "# Eliminación de la columna Altura\n",
    "df_hechos.drop('Altura', axis=1, inplace=True)\n",
    "\n",
    "# Verificamos el cambio\n",
    "df_hechos.head()"
   ]
  },
  {
   "cell_type": "markdown",
   "metadata": {},
   "source": [
    "#### 1.2 Valores Faltantes:"
   ]
  },
  {
   "cell_type": "markdown",
   "metadata": {},
   "source": [
    "Se puede observar con el análisis anterior de los valores nulos, que los datos faltantes en la columna 'Cruce' efectivamente son los que se refieren a un hecho en algún punto de la calle que no es una esquina o intersección de dos calles. Por lo tanto, se decide modificar esta columna en un valor 'Si' para los casos que son hechos en cruces de calles y 'No' en el caso que no sea un cruce de calles."
   ]
  },
  {
   "cell_type": "code",
   "execution_count": 9,
   "metadata": {},
   "outputs": [
    {
     "data": {
      "text/html": [
       "<div>\n",
       "<style scoped>\n",
       "    .dataframe tbody tr th:only-of-type {\n",
       "        vertical-align: middle;\n",
       "    }\n",
       "\n",
       "    .dataframe tbody tr th {\n",
       "        vertical-align: top;\n",
       "    }\n",
       "\n",
       "    .dataframe thead th {\n",
       "        text-align: right;\n",
       "    }\n",
       "</style>\n",
       "<table border=\"1\" class=\"dataframe\">\n",
       "  <thead>\n",
       "    <tr style=\"text-align: right;\">\n",
       "      <th></th>\n",
       "      <th>Id</th>\n",
       "      <th>Cantidad víctimas</th>\n",
       "      <th>Fecha</th>\n",
       "      <th>Año</th>\n",
       "      <th>Mes</th>\n",
       "      <th>Día</th>\n",
       "      <th>Hora completa</th>\n",
       "      <th>Hora</th>\n",
       "      <th>Lugar del hecho</th>\n",
       "      <th>Tipo de calle</th>\n",
       "      <th>Calle</th>\n",
       "      <th>Cruce</th>\n",
       "      <th>Dirección normalizada</th>\n",
       "      <th>Comuna</th>\n",
       "      <th>XY (CABA)</th>\n",
       "      <th>Pos X</th>\n",
       "      <th>Pos Y</th>\n",
       "      <th>Participantes</th>\n",
       "      <th>Víctima</th>\n",
       "      <th>Acusado</th>\n",
       "    </tr>\n",
       "  </thead>\n",
       "  <tbody>\n",
       "    <tr>\n",
       "      <th>0</th>\n",
       "      <td>2016-0001</td>\n",
       "      <td>1</td>\n",
       "      <td>2016-01-01</td>\n",
       "      <td>2016</td>\n",
       "      <td>1</td>\n",
       "      <td>1</td>\n",
       "      <td>04:00:00</td>\n",
       "      <td>4</td>\n",
       "      <td>AV PIEDRA BUENA Y AV FERNANDEZ DE LA CRUZ</td>\n",
       "      <td>AVENIDA</td>\n",
       "      <td>PIEDRA BUENA AV.</td>\n",
       "      <td>Si</td>\n",
       "      <td>PIEDRA BUENA AV. y FERNANDEZ DE LA CRUZ, F., G...</td>\n",
       "      <td>8</td>\n",
       "      <td>Point (98896.78238426 93532.43437792)</td>\n",
       "      <td>-58.47533969</td>\n",
       "      <td>-34.68757022</td>\n",
       "      <td>MOTO-AUTO</td>\n",
       "      <td>MOTO</td>\n",
       "      <td>AUTO</td>\n",
       "    </tr>\n",
       "    <tr>\n",
       "      <th>1</th>\n",
       "      <td>2016-0002</td>\n",
       "      <td>1</td>\n",
       "      <td>2016-01-02</td>\n",
       "      <td>2016</td>\n",
       "      <td>1</td>\n",
       "      <td>2</td>\n",
       "      <td>01:15:00</td>\n",
       "      <td>1</td>\n",
       "      <td>AV GRAL PAZ  Y AV DE LOS CORRALES</td>\n",
       "      <td>GRAL PAZ</td>\n",
       "      <td>PAZ, GRAL. AV.</td>\n",
       "      <td>Si</td>\n",
       "      <td>PAZ, GRAL. AV. y DE LOS CORRALES AV.</td>\n",
       "      <td>9</td>\n",
       "      <td>Point (95832.05571093 95505.41641999)</td>\n",
       "      <td>-58.50877521</td>\n",
       "      <td>-34.66977709</td>\n",
       "      <td>AUTO-PASAJEROS</td>\n",
       "      <td>AUTO</td>\n",
       "      <td>PASAJEROS</td>\n",
       "    </tr>\n",
       "    <tr>\n",
       "      <th>2</th>\n",
       "      <td>2016-0003</td>\n",
       "      <td>1</td>\n",
       "      <td>2016-01-03</td>\n",
       "      <td>2016</td>\n",
       "      <td>1</td>\n",
       "      <td>3</td>\n",
       "      <td>07:00:00</td>\n",
       "      <td>7</td>\n",
       "      <td>AV ENTRE RIOS 2034</td>\n",
       "      <td>AVENIDA</td>\n",
       "      <td>ENTRE RIOS AV.</td>\n",
       "      <td>No</td>\n",
       "      <td>ENTRE RIOS AV. 2034</td>\n",
       "      <td>1</td>\n",
       "      <td>Point (106684.29090040 99706.57687843)</td>\n",
       "      <td>-58.39040293</td>\n",
       "      <td>-34.63189362</td>\n",
       "      <td>MOTO-AUTO</td>\n",
       "      <td>MOTO</td>\n",
       "      <td>AUTO</td>\n",
       "    </tr>\n",
       "    <tr>\n",
       "      <th>3</th>\n",
       "      <td>2016-0004</td>\n",
       "      <td>1</td>\n",
       "      <td>2016-01-10</td>\n",
       "      <td>2016</td>\n",
       "      <td>1</td>\n",
       "      <td>10</td>\n",
       "      <td>00:00:00</td>\n",
       "      <td>0</td>\n",
       "      <td>AV LARRAZABAL Y GRAL VILLEGAS CONRADO</td>\n",
       "      <td>AVENIDA</td>\n",
       "      <td>LARRAZABAL AV.</td>\n",
       "      <td>Si</td>\n",
       "      <td>LARRAZABAL AV. y VILLEGAS, CONRADO, GRAL.</td>\n",
       "      <td>8</td>\n",
       "      <td>Point (99840.65224780 94269.16534422)</td>\n",
       "      <td>-58.46503904</td>\n",
       "      <td>-34.68092974</td>\n",
       "      <td>MOTO-SD</td>\n",
       "      <td>MOTO</td>\n",
       "      <td>SD</td>\n",
       "    </tr>\n",
       "    <tr>\n",
       "      <th>4</th>\n",
       "      <td>2016-0005</td>\n",
       "      <td>1</td>\n",
       "      <td>2016-01-21</td>\n",
       "      <td>2016</td>\n",
       "      <td>1</td>\n",
       "      <td>21</td>\n",
       "      <td>05:20:00</td>\n",
       "      <td>5</td>\n",
       "      <td>AV SAN JUAN Y PRESIDENTE LUIS SAENZ PEÑA</td>\n",
       "      <td>AVENIDA</td>\n",
       "      <td>SAN JUAN AV.</td>\n",
       "      <td>Si</td>\n",
       "      <td>SAN JUAN AV. y SAENZ PEÃ‘A, LUIS, PRES.</td>\n",
       "      <td>1</td>\n",
       "      <td>Point (106980.32827929 100752.16915795)</td>\n",
       "      <td>-58.38718297</td>\n",
       "      <td>-34.62246630</td>\n",
       "      <td>MOTO-PASAJEROS</td>\n",
       "      <td>MOTO</td>\n",
       "      <td>PASAJEROS</td>\n",
       "    </tr>\n",
       "  </tbody>\n",
       "</table>\n",
       "</div>"
      ],
      "text/plain": [
       "          Id  Cantidad víctimas      Fecha   Año  Mes  Día Hora completa Hora  \\\n",
       "0  2016-0001                  1 2016-01-01  2016    1    1      04:00:00    4   \n",
       "1  2016-0002                  1 2016-01-02  2016    1    2      01:15:00    1   \n",
       "2  2016-0003                  1 2016-01-03  2016    1    3      07:00:00    7   \n",
       "3  2016-0004                  1 2016-01-10  2016    1   10      00:00:00    0   \n",
       "4  2016-0005                  1 2016-01-21  2016    1   21      05:20:00    5   \n",
       "\n",
       "                             Lugar del hecho Tipo de calle             Calle  \\\n",
       "0  AV PIEDRA BUENA Y AV FERNANDEZ DE LA CRUZ       AVENIDA  PIEDRA BUENA AV.   \n",
       "1          AV GRAL PAZ  Y AV DE LOS CORRALES      GRAL PAZ    PAZ, GRAL. AV.   \n",
       "2                         AV ENTRE RIOS 2034       AVENIDA    ENTRE RIOS AV.   \n",
       "3      AV LARRAZABAL Y GRAL VILLEGAS CONRADO       AVENIDA    LARRAZABAL AV.   \n",
       "4  AV SAN JUAN Y PRESIDENTE LUIS SAENZ PEÑA        AVENIDA      SAN JUAN AV.   \n",
       "\n",
       "  Cruce                              Dirección normalizada  Comuna  \\\n",
       "0    Si  PIEDRA BUENA AV. y FERNANDEZ DE LA CRUZ, F., G...       8   \n",
       "1    Si               PAZ, GRAL. AV. y DE LOS CORRALES AV.       9   \n",
       "2    No                                ENTRE RIOS AV. 2034       1   \n",
       "3    Si          LARRAZABAL AV. y VILLEGAS, CONRADO, GRAL.       8   \n",
       "4    Si            SAN JUAN AV. y SAENZ PEÃ‘A, LUIS, PRES.       1   \n",
       "\n",
       "                                 XY (CABA)         Pos X         Pos Y  \\\n",
       "0    Point (98896.78238426 93532.43437792)  -58.47533969  -34.68757022   \n",
       "1    Point (95832.05571093 95505.41641999)  -58.50877521  -34.66977709   \n",
       "2   Point (106684.29090040 99706.57687843)  -58.39040293  -34.63189362   \n",
       "3    Point (99840.65224780 94269.16534422)  -58.46503904  -34.68092974   \n",
       "4  Point (106980.32827929 100752.16915795)  -58.38718297  -34.62246630   \n",
       "\n",
       "    Participantes Víctima    Acusado  \n",
       "0       MOTO-AUTO    MOTO       AUTO  \n",
       "1  AUTO-PASAJEROS    AUTO  PASAJEROS  \n",
       "2       MOTO-AUTO    MOTO       AUTO  \n",
       "3         MOTO-SD    MOTO         SD  \n",
       "4  MOTO-PASAJEROS    MOTO  PASAJEROS  "
      ]
     },
     "execution_count": 9,
     "metadata": {},
     "output_type": "execute_result"
    }
   ],
   "source": [
    "df_hechos['Cruce'] = np.where(df_hechos['Cruce'].notnull(), 'Si', 'No')\n",
    "\n",
    "# Verificamos el cambio\n",
    "df_hechos.head()"
   ]
  },
  {
   "cell_type": "markdown",
   "metadata": {},
   "source": [
    "Anteriormente vimos que la columna 'Dirección normalizada' tiene 8 datos nulos, entonces vamos a completarla con los datos de 'Lugar del hecho'. Además se decide eliminar la columna 'Lugar del hecho' y reemplazarla con 'Dirección normalizada' porque se considera que no perdemos ningún dato. Y también que, en el caso de una futura búsqueda es útil poder utilizar el filtro alfabético. Mientras que si queremos buscar por tipo de calle tenemos la columna 'Tipo de calle'."
   ]
  },
  {
   "cell_type": "code",
   "execution_count": 10,
   "metadata": {},
   "outputs": [],
   "source": [
    "# Completar los valores faltantes de la columna 'Dirección normalizada' con los de 'Lugar del hecho'\n",
    "df_hechos['Dirección normalizada'] = df_hechos['Dirección normalizada'].fillna(df_hechos['Lugar del hecho'])\n",
    "\n",
    "# Eliminar columna 'Lugar del hecho' y se reemplaza con 'Dirección normalizada' a la cual se le cambia el nombre \n",
    "df_hechos = df_hechos.drop(columns=['Lugar del hecho']).rename(columns={'Dirección normalizada': 'Lugar del hecho'})"
   ]
  },
  {
   "cell_type": "markdown",
   "metadata": {},
   "source": [
    "Por último, nos queda un valor faltante en la columna 'Calle', al no tener información suficiente para modificar ese dato faltante. Se cambia ese valor nulo por SD (Sin Dato), para seguir con la lógica original del dataset."
   ]
  },
  {
   "cell_type": "code",
   "execution_count": 11,
   "metadata": {},
   "outputs": [],
   "source": [
    "# Completar el valor faltante de la columna 'Calle' con SD\n",
    "df_hechos['Calle'] = df_hechos['Calle'].fillna('SD')"
   ]
  },
  {
   "cell_type": "markdown",
   "metadata": {},
   "source": [
    "#### 1.3 Registros Duplicados:"
   ]
  },
  {
   "cell_type": "markdown",
   "metadata": {},
   "source": [
    "No se observan filas duplicadas. Podemos ver que en la columna 'Id' el total de registros únicos coincide con el total de filas o registros de la tabla Hechos."
   ]
  },
  {
   "cell_type": "code",
   "execution_count": 12,
   "metadata": {},
   "outputs": [
    {
     "name": "stdout",
     "output_type": "stream",
     "text": [
      "La columna 'Id' cuenta con 696 valores únicos.\n"
     ]
    }
   ],
   "source": [
    "print(f\"La columna 'Id' cuenta con {len(df_hechos['Id'].unique())} valores únicos.\")"
   ]
  },
  {
   "cell_type": "markdown",
   "metadata": {},
   "source": [
    "#### 1.4 Tipo de Dato:"
   ]
  },
  {
   "cell_type": "markdown",
   "metadata": {},
   "source": [
    "Verificamos el tipo de dato de las columnas utilizando la función \"verificar_tipo_dato\" que se encuentra en el archivo funciones.py, y podemos observar que dos columnas 'Hora completa' y 'Hora', contienen varios tipos de dato, por ende se procede a la normalización de estos."
   ]
  },
  {
   "cell_type": "code",
   "execution_count": 13,
   "metadata": {},
   "outputs": [
    {
     "data": {
      "text/html": [
       "<div>\n",
       "<style scoped>\n",
       "    .dataframe tbody tr th:only-of-type {\n",
       "        vertical-align: middle;\n",
       "    }\n",
       "\n",
       "    .dataframe tbody tr th {\n",
       "        vertical-align: top;\n",
       "    }\n",
       "\n",
       "    .dataframe thead th {\n",
       "        text-align: right;\n",
       "    }\n",
       "</style>\n",
       "<table border=\"1\" class=\"dataframe\">\n",
       "  <thead>\n",
       "    <tr style=\"text-align: right;\">\n",
       "      <th></th>\n",
       "      <th>nombre_campo</th>\n",
       "      <th>tipo_datos</th>\n",
       "    </tr>\n",
       "  </thead>\n",
       "  <tbody>\n",
       "    <tr>\n",
       "      <th>0</th>\n",
       "      <td>Id</td>\n",
       "      <td>[&lt;class 'str'&gt;]</td>\n",
       "    </tr>\n",
       "    <tr>\n",
       "      <th>1</th>\n",
       "      <td>Cantidad víctimas</td>\n",
       "      <td>[&lt;class 'int'&gt;]</td>\n",
       "    </tr>\n",
       "    <tr>\n",
       "      <th>2</th>\n",
       "      <td>Fecha</td>\n",
       "      <td>[&lt;class 'pandas._libs.tslibs.timestamps.Timest...</td>\n",
       "    </tr>\n",
       "    <tr>\n",
       "      <th>3</th>\n",
       "      <td>Año</td>\n",
       "      <td>[&lt;class 'int'&gt;]</td>\n",
       "    </tr>\n",
       "    <tr>\n",
       "      <th>4</th>\n",
       "      <td>Mes</td>\n",
       "      <td>[&lt;class 'int'&gt;]</td>\n",
       "    </tr>\n",
       "    <tr>\n",
       "      <th>5</th>\n",
       "      <td>Día</td>\n",
       "      <td>[&lt;class 'int'&gt;]</td>\n",
       "    </tr>\n",
       "    <tr>\n",
       "      <th>6</th>\n",
       "      <td>Hora completa</td>\n",
       "      <td>[&lt;class 'datetime.time'&gt;, &lt;class 'str'&gt;, &lt;clas...</td>\n",
       "    </tr>\n",
       "    <tr>\n",
       "      <th>7</th>\n",
       "      <td>Hora</td>\n",
       "      <td>[&lt;class 'int'&gt;, &lt;class 'str'&gt;]</td>\n",
       "    </tr>\n",
       "    <tr>\n",
       "      <th>8</th>\n",
       "      <td>Tipo de calle</td>\n",
       "      <td>[&lt;class 'str'&gt;]</td>\n",
       "    </tr>\n",
       "    <tr>\n",
       "      <th>9</th>\n",
       "      <td>Calle</td>\n",
       "      <td>[&lt;class 'str'&gt;]</td>\n",
       "    </tr>\n",
       "    <tr>\n",
       "      <th>10</th>\n",
       "      <td>Cruce</td>\n",
       "      <td>[&lt;class 'str'&gt;]</td>\n",
       "    </tr>\n",
       "    <tr>\n",
       "      <th>11</th>\n",
       "      <td>Lugar del hecho</td>\n",
       "      <td>[&lt;class 'str'&gt;]</td>\n",
       "    </tr>\n",
       "    <tr>\n",
       "      <th>12</th>\n",
       "      <td>Comuna</td>\n",
       "      <td>[&lt;class 'int'&gt;]</td>\n",
       "    </tr>\n",
       "    <tr>\n",
       "      <th>13</th>\n",
       "      <td>XY (CABA)</td>\n",
       "      <td>[&lt;class 'str'&gt;]</td>\n",
       "    </tr>\n",
       "    <tr>\n",
       "      <th>14</th>\n",
       "      <td>Pos X</td>\n",
       "      <td>[&lt;class 'str'&gt;]</td>\n",
       "    </tr>\n",
       "    <tr>\n",
       "      <th>15</th>\n",
       "      <td>Pos Y</td>\n",
       "      <td>[&lt;class 'str'&gt;]</td>\n",
       "    </tr>\n",
       "    <tr>\n",
       "      <th>16</th>\n",
       "      <td>Participantes</td>\n",
       "      <td>[&lt;class 'str'&gt;]</td>\n",
       "    </tr>\n",
       "    <tr>\n",
       "      <th>17</th>\n",
       "      <td>Víctima</td>\n",
       "      <td>[&lt;class 'str'&gt;]</td>\n",
       "    </tr>\n",
       "    <tr>\n",
       "      <th>18</th>\n",
       "      <td>Acusado</td>\n",
       "      <td>[&lt;class 'str'&gt;]</td>\n",
       "    </tr>\n",
       "  </tbody>\n",
       "</table>\n",
       "</div>"
      ],
      "text/plain": [
       "         nombre_campo                                         tipo_datos\n",
       "0                  Id                                    [<class 'str'>]\n",
       "1   Cantidad víctimas                                    [<class 'int'>]\n",
       "2               Fecha  [<class 'pandas._libs.tslibs.timestamps.Timest...\n",
       "3                 Año                                    [<class 'int'>]\n",
       "4                 Mes                                    [<class 'int'>]\n",
       "5                 Día                                    [<class 'int'>]\n",
       "6       Hora completa  [<class 'datetime.time'>, <class 'str'>, <clas...\n",
       "7                Hora                     [<class 'int'>, <class 'str'>]\n",
       "8       Tipo de calle                                    [<class 'str'>]\n",
       "9               Calle                                    [<class 'str'>]\n",
       "10              Cruce                                    [<class 'str'>]\n",
       "11    Lugar del hecho                                    [<class 'str'>]\n",
       "12             Comuna                                    [<class 'int'>]\n",
       "13          XY (CABA)                                    [<class 'str'>]\n",
       "14              Pos X                                    [<class 'str'>]\n",
       "15              Pos Y                                    [<class 'str'>]\n",
       "16      Participantes                                    [<class 'str'>]\n",
       "17            Víctima                                    [<class 'str'>]\n",
       "18            Acusado                                    [<class 'str'>]"
      ]
     },
     "execution_count": 13,
     "metadata": {},
     "output_type": "execute_result"
    }
   ],
   "source": [
    "funciones.verificar_tipo_dato(df_hechos)"
   ]
  },
  {
   "cell_type": "markdown",
   "metadata": {},
   "source": [
    "##### 1.4.1 Columna 'Hora completa':"
   ]
  },
  {
   "cell_type": "markdown",
   "metadata": {},
   "source": [
    "Verificamos la cantidad de valores por tipo de dato en la columna 'Hora completa'. Ya que la mayoría de los datos son de tipo datetime.time, procedemos a cambiar todos los valores a ese tipo de dato con la función \"convertir_a_time\" que se encuentra en el archivo funciones.py"
   ]
  },
  {
   "cell_type": "code",
   "execution_count": 14,
   "metadata": {},
   "outputs": [
    {
     "data": {
      "text/plain": [
       "Hora completa\n",
       "<class 'datetime.time'>        608\n",
       "<class 'str'>                   85\n",
       "<class 'datetime.datetime'>      3\n",
       "Name: count, dtype: int64"
      ]
     },
     "execution_count": 14,
     "metadata": {},
     "output_type": "execute_result"
    }
   ],
   "source": [
    "df_hechos['Hora completa'].apply(type).value_counts()"
   ]
  },
  {
   "cell_type": "code",
   "execution_count": 15,
   "metadata": {},
   "outputs": [
    {
     "data": {
      "text/plain": [
       "Hora completa\n",
       "<class 'datetime.time'>    695\n",
       "<class 'NoneType'>           1\n",
       "Name: count, dtype: int64"
      ]
     },
     "execution_count": 15,
     "metadata": {},
     "output_type": "execute_result"
    }
   ],
   "source": [
    "# Cambio de tipo de dato \n",
    "df_hechos['Hora completa'] = df_hechos['Hora completa'].apply(lambda x: funciones.convertir_a_time(x))\n",
    "\n",
    "# Verificamos que se hayan modificado los valores\n",
    "df_hechos['Hora completa'].apply(type).value_counts()"
   ]
  },
  {
   "cell_type": "markdown",
   "metadata": {},
   "source": [
    "Se puede observar que quedó un solo registro sin modificar y procedemos a ubicarlo. Vemos que definitivamente tiene Sin Dato (SD) en la columna 'Hora' y por consecuencia en 'Hora completa'. Se procede a rellenar el valor de 'Hora completa', para eso buscamos la hora que MÁS aparece en toda la columna (moda) y la vamos a colocar en el registro indicado."
   ]
  },
  {
   "cell_type": "code",
   "execution_count": 16,
   "metadata": {},
   "outputs": [
    {
     "data": {
      "text/html": [
       "<div>\n",
       "<style scoped>\n",
       "    .dataframe tbody tr th:only-of-type {\n",
       "        vertical-align: middle;\n",
       "    }\n",
       "\n",
       "    .dataframe tbody tr th {\n",
       "        vertical-align: top;\n",
       "    }\n",
       "\n",
       "    .dataframe thead th {\n",
       "        text-align: right;\n",
       "    }\n",
       "</style>\n",
       "<table border=\"1\" class=\"dataframe\">\n",
       "  <thead>\n",
       "    <tr style=\"text-align: right;\">\n",
       "      <th></th>\n",
       "      <th>Id</th>\n",
       "      <th>Cantidad víctimas</th>\n",
       "      <th>Fecha</th>\n",
       "      <th>Año</th>\n",
       "      <th>Mes</th>\n",
       "      <th>Día</th>\n",
       "      <th>Hora completa</th>\n",
       "      <th>Hora</th>\n",
       "      <th>Tipo de calle</th>\n",
       "      <th>Calle</th>\n",
       "      <th>Cruce</th>\n",
       "      <th>Lugar del hecho</th>\n",
       "      <th>Comuna</th>\n",
       "      <th>XY (CABA)</th>\n",
       "      <th>Pos X</th>\n",
       "      <th>Pos Y</th>\n",
       "      <th>Participantes</th>\n",
       "      <th>Víctima</th>\n",
       "      <th>Acusado</th>\n",
       "    </tr>\n",
       "  </thead>\n",
       "  <tbody>\n",
       "    <tr>\n",
       "      <th>518</th>\n",
       "      <td>2019-0103</td>\n",
       "      <td>1</td>\n",
       "      <td>2019-12-18</td>\n",
       "      <td>2019</td>\n",
       "      <td>12</td>\n",
       "      <td>18</td>\n",
       "      <td>None</td>\n",
       "      <td>SD</td>\n",
       "      <td>GRAL PAZ</td>\n",
       "      <td>PAZ, GRAL. AV.</td>\n",
       "      <td>Si</td>\n",
       "      <td>PAZ, GRAL. AV. y GRIVEO</td>\n",
       "      <td>11</td>\n",
       "      <td>Point (94643.11254058 103831.57115061)</td>\n",
       "      <td>-58.52169422</td>\n",
       "      <td>-34.59471640</td>\n",
       "      <td>MOTO-MOTO</td>\n",
       "      <td>MOTO</td>\n",
       "      <td>MOTO</td>\n",
       "    </tr>\n",
       "  </tbody>\n",
       "</table>\n",
       "</div>"
      ],
      "text/plain": [
       "            Id  Cantidad víctimas      Fecha   Año  Mes  Día Hora completa  \\\n",
       "518  2019-0103                  1 2019-12-18  2019   12   18          None   \n",
       "\n",
       "    Hora Tipo de calle           Calle Cruce          Lugar del hecho  Comuna  \\\n",
       "518   SD      GRAL PAZ  PAZ, GRAL. AV.    Si  PAZ, GRAL. AV. y GRIVEO      11   \n",
       "\n",
       "                                  XY (CABA)         Pos X         Pos Y  \\\n",
       "518  Point (94643.11254058 103831.57115061)  -58.52169422  -34.59471640   \n",
       "\n",
       "    Participantes Víctima Acusado  \n",
       "518     MOTO-MOTO    MOTO    MOTO  "
      ]
     },
     "execution_count": 16,
     "metadata": {},
     "output_type": "execute_result"
    }
   ],
   "source": [
    "df_hechos[df_hechos['Hora completa'].isna()]"
   ]
  },
  {
   "cell_type": "code",
   "execution_count": 17,
   "metadata": {},
   "outputs": [
    {
     "name": "stdout",
     "output_type": "stream",
     "text": [
      "La hora mas común es: 09:00:00\n"
     ]
    },
    {
     "data": {
      "text/plain": [
       "Hora completa\n",
       "<class 'datetime.time'>    696\n",
       "Name: count, dtype: int64"
      ]
     },
     "execution_count": 17,
     "metadata": {},
     "output_type": "execute_result"
    }
   ],
   "source": [
    "# Calculamos la hora mas común\n",
    "hora_moda = df_hechos['Hora completa'].mode().iloc[0]\n",
    "print(f'La hora mas común es: {hora_moda}')\n",
    "\n",
    "# Reemplazamos el valor\n",
    "df_hechos['Hora completa'].fillna(hora_moda, inplace=True)\n",
    "\n",
    "# Verificamos el tipo de dato para toda la columna\n",
    "df_hechos['Hora completa'].apply(type).value_counts()"
   ]
  },
  {
   "cell_type": "markdown",
   "metadata": {},
   "source": [
    "##### 1.4.2 Columna 'Hora':"
   ]
  },
  {
   "cell_type": "markdown",
   "metadata": {},
   "source": [
    "Verificamos la cantidad de valores por tipo de dato en la columna 'Hora'. Ya que la mayoría de los datos son de tipo int y solo un string, podemos concluir entonces que ese registro es el encontrado en el análisis anterior para 'Hora completa' donde 'Hora' tiene como valor Sin Dato (SD). Procedemos a rellenar este valor con la 'Hora completa' que hallamos utilizando la moda."
   ]
  },
  {
   "cell_type": "code",
   "execution_count": 18,
   "metadata": {},
   "outputs": [
    {
     "data": {
      "text/plain": [
       "Hora\n",
       "<class 'int'>    695\n",
       "<class 'str'>      1\n",
       "Name: count, dtype: int64"
      ]
     },
     "execution_count": 18,
     "metadata": {},
     "output_type": "execute_result"
    }
   ],
   "source": [
    "df_hechos['Hora'].apply(type).value_counts()"
   ]
  },
  {
   "cell_type": "code",
   "execution_count": 19,
   "metadata": {},
   "outputs": [
    {
     "data": {
      "text/plain": [
       "Hora\n",
       "<class 'int'>    696\n",
       "Name: count, dtype: int64"
      ]
     },
     "execution_count": 19,
     "metadata": {},
     "output_type": "execute_result"
    }
   ],
   "source": [
    "# Agregamos el valor de la hora moda, en el dato faltante.\n",
    "df_hechos['Hora'] = df_hechos['Hora'].apply(lambda x: int(hora_moda.hour) if x == 'SD' else x)\n",
    "\n",
    "# Verificamos que se haya modificado el tipo de dato\n",
    "df_hechos['Hora'].apply(type).value_counts()"
   ]
  },
  {
   "cell_type": "markdown",
   "metadata": {},
   "source": [
    "Verificamos que el registro completo esté correctamente modificado."
   ]
  },
  {
   "cell_type": "code",
   "execution_count": 20,
   "metadata": {},
   "outputs": [
    {
     "data": {
      "text/html": [
       "<div>\n",
       "<style scoped>\n",
       "    .dataframe tbody tr th:only-of-type {\n",
       "        vertical-align: middle;\n",
       "    }\n",
       "\n",
       "    .dataframe tbody tr th {\n",
       "        vertical-align: top;\n",
       "    }\n",
       "\n",
       "    .dataframe thead th {\n",
       "        text-align: right;\n",
       "    }\n",
       "</style>\n",
       "<table border=\"1\" class=\"dataframe\">\n",
       "  <thead>\n",
       "    <tr style=\"text-align: right;\">\n",
       "      <th></th>\n",
       "      <th>Id</th>\n",
       "      <th>Cantidad víctimas</th>\n",
       "      <th>Fecha</th>\n",
       "      <th>Año</th>\n",
       "      <th>Mes</th>\n",
       "      <th>Día</th>\n",
       "      <th>Hora completa</th>\n",
       "      <th>Hora</th>\n",
       "      <th>Tipo de calle</th>\n",
       "      <th>Calle</th>\n",
       "      <th>Cruce</th>\n",
       "      <th>Lugar del hecho</th>\n",
       "      <th>Comuna</th>\n",
       "      <th>XY (CABA)</th>\n",
       "      <th>Pos X</th>\n",
       "      <th>Pos Y</th>\n",
       "      <th>Participantes</th>\n",
       "      <th>Víctima</th>\n",
       "      <th>Acusado</th>\n",
       "    </tr>\n",
       "  </thead>\n",
       "  <tbody>\n",
       "    <tr>\n",
       "      <th>518</th>\n",
       "      <td>2019-0103</td>\n",
       "      <td>1</td>\n",
       "      <td>2019-12-18</td>\n",
       "      <td>2019</td>\n",
       "      <td>12</td>\n",
       "      <td>18</td>\n",
       "      <td>09:00:00</td>\n",
       "      <td>9</td>\n",
       "      <td>GRAL PAZ</td>\n",
       "      <td>PAZ, GRAL. AV.</td>\n",
       "      <td>Si</td>\n",
       "      <td>PAZ, GRAL. AV. y GRIVEO</td>\n",
       "      <td>11</td>\n",
       "      <td>Point (94643.11254058 103831.57115061)</td>\n",
       "      <td>-58.52169422</td>\n",
       "      <td>-34.59471640</td>\n",
       "      <td>MOTO-MOTO</td>\n",
       "      <td>MOTO</td>\n",
       "      <td>MOTO</td>\n",
       "    </tr>\n",
       "  </tbody>\n",
       "</table>\n",
       "</div>"
      ],
      "text/plain": [
       "            Id  Cantidad víctimas      Fecha   Año  Mes  Día Hora completa  \\\n",
       "518  2019-0103                  1 2019-12-18  2019   12   18      09:00:00   \n",
       "\n",
       "     Hora Tipo de calle           Calle Cruce          Lugar del hecho  \\\n",
       "518     9      GRAL PAZ  PAZ, GRAL. AV.    Si  PAZ, GRAL. AV. y GRIVEO   \n",
       "\n",
       "     Comuna                               XY (CABA)         Pos X  \\\n",
       "518      11  Point (94643.11254058 103831.57115061)  -58.52169422   \n",
       "\n",
       "            Pos Y Participantes Víctima Acusado  \n",
       "518  -34.59471640     MOTO-MOTO    MOTO    MOTO  "
      ]
     },
     "execution_count": 20,
     "metadata": {},
     "output_type": "execute_result"
    }
   ],
   "source": [
    "df_hechos[df_hechos['Id'] == '2019-0103']"
   ]
  },
  {
   "cell_type": "markdown",
   "metadata": {},
   "source": [
    "#### 1.5 Categorías de 'Víctima' y 'Acusado':"
   ]
  },
  {
   "cell_type": "markdown",
   "metadata": {},
   "source": [
    "Se verifica que las categorías que aparecen en el dataset para estas dos columnas, son las indicadas en el diccionario de datos. En la columna 'Acusado' están las categorías correctas, pero en la columna 'Víctima' aparecen dos categorías (OBJETO FIJO) y (PEATON_MOTO), las cuales no están indicadas en el diccionario de datos. Se procede entonces a buscar estos registros y hacer un análisis más detallado para cada uno."
   ]
  },
  {
   "cell_type": "code",
   "execution_count": 21,
   "metadata": {},
   "outputs": [
    {
     "name": "stdout",
     "output_type": "stream",
     "text": [
      "['MOTO' 'AUTO' 'PEATON' 'SD' 'CARGAS' 'BICICLETA' 'PASAJEROS' 'MOVIL'\n",
      " 'OBJETO FIJO' 'PEATON_MOTO']\n",
      "['AUTO' 'PASAJEROS' 'SD' 'OBJETO FIJO' 'CARGAS' 'MOTO' 'MULTIPLE' 'OTRO'\n",
      " 'BICICLETA' 'TREN']\n"
     ]
    }
   ],
   "source": [
    "# Valores únicos de la columna 'Victima'\n",
    "print(df_hechos['Víctima'].unique())\n",
    "\n",
    "# Valores únicos de la columna 'Acusado'\n",
    "print(df_hechos['Acusado'].unique())"
   ]
  },
  {
   "cell_type": "code",
   "execution_count": 22,
   "metadata": {},
   "outputs": [
    {
     "data": {
      "text/html": [
       "<div>\n",
       "<style scoped>\n",
       "    .dataframe tbody tr th:only-of-type {\n",
       "        vertical-align: middle;\n",
       "    }\n",
       "\n",
       "    .dataframe tbody tr th {\n",
       "        vertical-align: top;\n",
       "    }\n",
       "\n",
       "    .dataframe thead th {\n",
       "        text-align: right;\n",
       "    }\n",
       "</style>\n",
       "<table border=\"1\" class=\"dataframe\">\n",
       "  <thead>\n",
       "    <tr style=\"text-align: right;\">\n",
       "      <th></th>\n",
       "      <th>Id</th>\n",
       "      <th>Cantidad víctimas</th>\n",
       "      <th>Fecha</th>\n",
       "      <th>Año</th>\n",
       "      <th>Mes</th>\n",
       "      <th>Día</th>\n",
       "      <th>Hora completa</th>\n",
       "      <th>Hora</th>\n",
       "      <th>Tipo de calle</th>\n",
       "      <th>Calle</th>\n",
       "      <th>Cruce</th>\n",
       "      <th>Lugar del hecho</th>\n",
       "      <th>Comuna</th>\n",
       "      <th>XY (CABA)</th>\n",
       "      <th>Pos X</th>\n",
       "      <th>Pos Y</th>\n",
       "      <th>Participantes</th>\n",
       "      <th>Víctima</th>\n",
       "      <th>Acusado</th>\n",
       "    </tr>\n",
       "  </thead>\n",
       "  <tbody>\n",
       "    <tr>\n",
       "      <th>230</th>\n",
       "      <td>2017-0108</td>\n",
       "      <td>2</td>\n",
       "      <td>2017-09-02</td>\n",
       "      <td>2017</td>\n",
       "      <td>9</td>\n",
       "      <td>2</td>\n",
       "      <td>04:53:08</td>\n",
       "      <td>4</td>\n",
       "      <td>GRAL PAZ</td>\n",
       "      <td>PAZ, GRAL. AV.</td>\n",
       "      <td>Si</td>\n",
       "      <td>PAZ, GRAL. AV. y MACHAIN</td>\n",
       "      <td>12</td>\n",
       "      <td>Point (97098.48468623 109019.96106626)</td>\n",
       "      <td>-58.49491054</td>\n",
       "      <td>-34.54795581</td>\n",
       "      <td>AUTO-OBJETO FIJO</td>\n",
       "      <td>OBJETO FIJO</td>\n",
       "      <td>AUTO</td>\n",
       "    </tr>\n",
       "    <tr>\n",
       "      <th>583</th>\n",
       "      <td>2020-0063</td>\n",
       "      <td>2</td>\n",
       "      <td>2020-12-05</td>\n",
       "      <td>2020</td>\n",
       "      <td>12</td>\n",
       "      <td>5</td>\n",
       "      <td>07:10:00</td>\n",
       "      <td>7</td>\n",
       "      <td>CALLE</td>\n",
       "      <td>NUEVA YORK</td>\n",
       "      <td>Si</td>\n",
       "      <td>NUEVA YORK y ALTA GRACIA</td>\n",
       "      <td>11</td>\n",
       "      <td>Point (94080.62190808 102083.62453795)</td>\n",
       "      <td>-58.52783814</td>\n",
       "      <td>-34.61047001</td>\n",
       "      <td>PEATON_MOTO-MOTO</td>\n",
       "      <td>PEATON_MOTO</td>\n",
       "      <td>MOTO</td>\n",
       "    </tr>\n",
       "  </tbody>\n",
       "</table>\n",
       "</div>"
      ],
      "text/plain": [
       "            Id  Cantidad víctimas      Fecha   Año  Mes  Día Hora completa  \\\n",
       "230  2017-0108                  2 2017-09-02  2017    9    2      04:53:08   \n",
       "583  2020-0063                  2 2020-12-05  2020   12    5      07:10:00   \n",
       "\n",
       "     Hora Tipo de calle           Calle Cruce           Lugar del hecho  \\\n",
       "230     4      GRAL PAZ  PAZ, GRAL. AV.    Si  PAZ, GRAL. AV. y MACHAIN   \n",
       "583     7         CALLE      NUEVA YORK    Si  NUEVA YORK y ALTA GRACIA   \n",
       "\n",
       "     Comuna                               XY (CABA)         Pos X  \\\n",
       "230      12  Point (97098.48468623 109019.96106626)  -58.49491054   \n",
       "583      11  Point (94080.62190808 102083.62453795)  -58.52783814   \n",
       "\n",
       "            Pos Y     Participantes      Víctima Acusado  \n",
       "230  -34.54795581  AUTO-OBJETO FIJO  OBJETO FIJO    AUTO  \n",
       "583  -34.61047001  PEATON_MOTO-MOTO  PEATON_MOTO    MOTO  "
      ]
     },
     "execution_count": 22,
     "metadata": {},
     "output_type": "execute_result"
    }
   ],
   "source": [
    "# Se buscan los registros \n",
    "df_hechos[df_hechos['Víctima'].isin(['OBJETO FIJO', 'PEATON_MOTO'])]"
   ]
  },
  {
   "cell_type": "markdown",
   "metadata": {},
   "source": [
    "##### 1.5.1 OBJETO FIJO:"
   ]
  },
  {
   "cell_type": "markdown",
   "metadata": {},
   "source": [
    "Se puede analizar que la columna 'Acusado' SI recibe como categoría OBJETO FIJO y la columna 'Participantes' contiene la combinación AUTO-OBJETO FIJO, por ende, se realizará un intercambio de valores entras las columnas 'Víctima' y 'Acusado'."
   ]
  },
  {
   "cell_type": "code",
   "execution_count": 23,
   "metadata": {},
   "outputs": [],
   "source": [
    "# Para que solo el reemplazo se realice solo en esta fila\n",
    "condicion = (df_hechos['Id'] == '2017-0108')\n",
    "df_hechos.loc[condicion, 'Víctima'] = df_hechos.loc[condicion, 'Víctima'].replace('OBJETO FIJO', 'AUTO')\n",
    "df_hechos.loc[condicion, 'Acusado'] = df_hechos.loc[condicion, 'Acusado'].replace('AUTO', 'OBJETO FIJO')"
   ]
  },
  {
   "cell_type": "markdown",
   "metadata": {},
   "source": [
    "##### 1.5.2 PEATON_MOTO:"
   ]
  },
  {
   "cell_type": "markdown",
   "metadata": {},
   "source": [
    "Se puede analizar que MOTO esta repetida dos veces, por ende, se asume que el error sucedió al momento de digitar el registro, entonces se realizará el cambio de PEATON_MOTO a solo PEATON y también se modificará la combinación en la columna 'Participantes'."
   ]
  },
  {
   "cell_type": "code",
   "execution_count": 24,
   "metadata": {},
   "outputs": [],
   "source": [
    "# Para que solo el reemplazo se realice solo en esta fila\n",
    "condicion = (df_hechos['Id'] == '2020-0063')\n",
    "df_hechos.loc[condicion, 'Participantes'] = df_hechos.loc[condicion, 'Participantes'].replace('PEATON_MOTO-MOTO', 'PEATON_MOTO')\n",
    "df_hechos.loc[condicion, 'Víctima'] = df_hechos.loc[condicion, 'Víctima'].replace('PEATON_MOTO', 'PEATON')"
   ]
  },
  {
   "cell_type": "markdown",
   "metadata": {},
   "source": [
    "Se verifica que los cambios aplicados se realizaron correctamente."
   ]
  },
  {
   "cell_type": "code",
   "execution_count": 25,
   "metadata": {},
   "outputs": [
    {
     "data": {
      "text/html": [
       "<div>\n",
       "<style scoped>\n",
       "    .dataframe tbody tr th:only-of-type {\n",
       "        vertical-align: middle;\n",
       "    }\n",
       "\n",
       "    .dataframe tbody tr th {\n",
       "        vertical-align: top;\n",
       "    }\n",
       "\n",
       "    .dataframe thead th {\n",
       "        text-align: right;\n",
       "    }\n",
       "</style>\n",
       "<table border=\"1\" class=\"dataframe\">\n",
       "  <thead>\n",
       "    <tr style=\"text-align: right;\">\n",
       "      <th></th>\n",
       "      <th>Id</th>\n",
       "      <th>Cantidad víctimas</th>\n",
       "      <th>Fecha</th>\n",
       "      <th>Año</th>\n",
       "      <th>Mes</th>\n",
       "      <th>Día</th>\n",
       "      <th>Hora completa</th>\n",
       "      <th>Hora</th>\n",
       "      <th>Tipo de calle</th>\n",
       "      <th>Calle</th>\n",
       "      <th>Cruce</th>\n",
       "      <th>Lugar del hecho</th>\n",
       "      <th>Comuna</th>\n",
       "      <th>XY (CABA)</th>\n",
       "      <th>Pos X</th>\n",
       "      <th>Pos Y</th>\n",
       "      <th>Participantes</th>\n",
       "      <th>Víctima</th>\n",
       "      <th>Acusado</th>\n",
       "    </tr>\n",
       "  </thead>\n",
       "  <tbody>\n",
       "    <tr>\n",
       "      <th>230</th>\n",
       "      <td>2017-0108</td>\n",
       "      <td>2</td>\n",
       "      <td>2017-09-02</td>\n",
       "      <td>2017</td>\n",
       "      <td>9</td>\n",
       "      <td>2</td>\n",
       "      <td>04:53:08</td>\n",
       "      <td>4</td>\n",
       "      <td>GRAL PAZ</td>\n",
       "      <td>PAZ, GRAL. AV.</td>\n",
       "      <td>Si</td>\n",
       "      <td>PAZ, GRAL. AV. y MACHAIN</td>\n",
       "      <td>12</td>\n",
       "      <td>Point (97098.48468623 109019.96106626)</td>\n",
       "      <td>-58.49491054</td>\n",
       "      <td>-34.54795581</td>\n",
       "      <td>AUTO-OBJETO FIJO</td>\n",
       "      <td>AUTO</td>\n",
       "      <td>OBJETO FIJO</td>\n",
       "    </tr>\n",
       "    <tr>\n",
       "      <th>583</th>\n",
       "      <td>2020-0063</td>\n",
       "      <td>2</td>\n",
       "      <td>2020-12-05</td>\n",
       "      <td>2020</td>\n",
       "      <td>12</td>\n",
       "      <td>5</td>\n",
       "      <td>07:10:00</td>\n",
       "      <td>7</td>\n",
       "      <td>CALLE</td>\n",
       "      <td>NUEVA YORK</td>\n",
       "      <td>Si</td>\n",
       "      <td>NUEVA YORK y ALTA GRACIA</td>\n",
       "      <td>11</td>\n",
       "      <td>Point (94080.62190808 102083.62453795)</td>\n",
       "      <td>-58.52783814</td>\n",
       "      <td>-34.61047001</td>\n",
       "      <td>PEATON_MOTO</td>\n",
       "      <td>PEATON</td>\n",
       "      <td>MOTO</td>\n",
       "    </tr>\n",
       "  </tbody>\n",
       "</table>\n",
       "</div>"
      ],
      "text/plain": [
       "            Id  Cantidad víctimas      Fecha   Año  Mes  Día Hora completa  \\\n",
       "230  2017-0108                  2 2017-09-02  2017    9    2      04:53:08   \n",
       "583  2020-0063                  2 2020-12-05  2020   12    5      07:10:00   \n",
       "\n",
       "     Hora Tipo de calle           Calle Cruce           Lugar del hecho  \\\n",
       "230     4      GRAL PAZ  PAZ, GRAL. AV.    Si  PAZ, GRAL. AV. y MACHAIN   \n",
       "583     7         CALLE      NUEVA YORK    Si  NUEVA YORK y ALTA GRACIA   \n",
       "\n",
       "     Comuna                               XY (CABA)         Pos X  \\\n",
       "230      12  Point (97098.48468623 109019.96106626)  -58.49491054   \n",
       "583      11  Point (94080.62190808 102083.62453795)  -58.52783814   \n",
       "\n",
       "            Pos Y     Participantes Víctima      Acusado  \n",
       "230  -34.54795581  AUTO-OBJETO FIJO    AUTO  OBJETO FIJO  \n",
       "583  -34.61047001       PEATON_MOTO  PEATON         MOTO  "
      ]
     },
     "execution_count": 25,
     "metadata": {},
     "output_type": "execute_result"
    }
   ],
   "source": [
    "df_hechos[df_hechos['Id'].isin(['2017-0108','2020-0063'])]"
   ]
  },
  {
   "cell_type": "markdown",
   "metadata": {},
   "source": [
    "#### 1.6 Variables Geográficas:"
   ]
  },
  {
   "cell_type": "markdown",
   "metadata": {},
   "source": [
    "Las columnas que tenemos con información geográfica son 'XY (CABA)', 'Pos X' y 'Pos Y'. Se puede observar que los datos de 'Pos Y' corresponden a los de Latitud y los datos de 'Pos X' corresponden a los de Longitud, se procede entonces a realizar el cambio de nombre y de posición en la tabla. También se puede observar que en estas tres columnas mencionadas anteriormente nos encontramos con celdas en [Point(. .) , . , .], las cuales procederemos a convertir en 0 para lograr un correcto análisis de todas las variables."
   ]
  },
  {
   "cell_type": "code",
   "execution_count": 26,
   "metadata": {},
   "outputs": [],
   "source": [
    "# Se renombran las columnas Pos X y Pos Y\n",
    "df_hechos = df_hechos.rename(columns={'Pos X':'Longitud',\n",
    "                                      'Pos Y':'Latitud',})\n",
    "\n",
    "# Se organiza la posición de la columnas para que quede Latitud seguido de Longitud\n",
    "df_hechos = df_hechos[['Id', 'Cantidad víctimas', 'Fecha', 'Año', 'Mes', 'Día',\n",
    "       'Hora completa', 'Hora', 'Tipo de calle', 'Calle', 'Cruce',\n",
    "       'Lugar del hecho', 'Comuna', 'XY (CABA)', 'Latitud', 'Longitud', \n",
    "       'Participantes', 'Víctima', 'Acusado']]\n",
    "\n",
    "# Cambio de valores por 0\n",
    "df_hechos['Latitud'] = df_hechos['Latitud'].replace('.', 0)\n",
    "df_hechos['Longitud'] = df_hechos['Longitud'].replace('.', 0)\n",
    "df_hechos['XY (CABA)'] = df_hechos['XY (CABA)'].replace('Point (. .)', 0)"
   ]
  },
  {
   "cell_type": "code",
   "execution_count": 27,
   "metadata": {},
   "outputs": [
    {
     "data": {
      "text/html": [
       "<div>\n",
       "<style scoped>\n",
       "    .dataframe tbody tr th:only-of-type {\n",
       "        vertical-align: middle;\n",
       "    }\n",
       "\n",
       "    .dataframe tbody tr th {\n",
       "        vertical-align: top;\n",
       "    }\n",
       "\n",
       "    .dataframe thead th {\n",
       "        text-align: right;\n",
       "    }\n",
       "</style>\n",
       "<table border=\"1\" class=\"dataframe\">\n",
       "  <thead>\n",
       "    <tr style=\"text-align: right;\">\n",
       "      <th></th>\n",
       "      <th>Id</th>\n",
       "      <th>Cantidad víctimas</th>\n",
       "      <th>Fecha</th>\n",
       "      <th>Año</th>\n",
       "      <th>Mes</th>\n",
       "      <th>Día</th>\n",
       "      <th>Hora completa</th>\n",
       "      <th>Hora</th>\n",
       "      <th>Tipo de calle</th>\n",
       "      <th>Calle</th>\n",
       "      <th>Cruce</th>\n",
       "      <th>Lugar del hecho</th>\n",
       "      <th>Comuna</th>\n",
       "      <th>XY (CABA)</th>\n",
       "      <th>Latitud</th>\n",
       "      <th>Longitud</th>\n",
       "      <th>Participantes</th>\n",
       "      <th>Víctima</th>\n",
       "      <th>Acusado</th>\n",
       "    </tr>\n",
       "  </thead>\n",
       "  <tbody>\n",
       "    <tr>\n",
       "      <th>621</th>\n",
       "      <td>2021-0023</td>\n",
       "      <td>1</td>\n",
       "      <td>2021-03-01</td>\n",
       "      <td>2021</td>\n",
       "      <td>3</td>\n",
       "      <td>1</td>\n",
       "      <td>09:20:00</td>\n",
       "      <td>9</td>\n",
       "      <td>AUTOPISTA</td>\n",
       "      <td>AUTOPISTA BUENOS AIRES - LA PLATA</td>\n",
       "      <td>No</td>\n",
       "      <td>AU BUENOS AIRES LA PLATA  KM 4,5</td>\n",
       "      <td>4</td>\n",
       "      <td>0</td>\n",
       "      <td>0</td>\n",
       "      <td>0</td>\n",
       "      <td>MOTO-CARGAS</td>\n",
       "      <td>MOTO</td>\n",
       "      <td>CARGAS</td>\n",
       "    </tr>\n",
       "  </tbody>\n",
       "</table>\n",
       "</div>"
      ],
      "text/plain": [
       "            Id  Cantidad víctimas      Fecha   Año  Mes  Día Hora completa  \\\n",
       "621  2021-0023                  1 2021-03-01  2021    3    1      09:20:00   \n",
       "\n",
       "     Hora Tipo de calle                              Calle Cruce  \\\n",
       "621     9     AUTOPISTA  AUTOPISTA BUENOS AIRES - LA PLATA    No   \n",
       "\n",
       "                      Lugar del hecho  Comuna XY (CABA) Latitud Longitud  \\\n",
       "621  AU BUENOS AIRES LA PLATA  KM 4,5       4         0       0        0   \n",
       "\n",
       "    Participantes Víctima Acusado  \n",
       "621   MOTO-CARGAS    MOTO  CARGAS  "
      ]
     },
     "execution_count": 27,
     "metadata": {},
     "output_type": "execute_result"
    }
   ],
   "source": [
    "# Verificamos un caso de los registros \n",
    "df_hechos[df_hechos['Id'] == '2021-0023']"
   ]
  },
  {
   "cell_type": "markdown",
   "metadata": {},
   "source": [
    "Al realizar el cambio de las variables anteriores por cero, podemos observar que dichas columnas quedaron con dos tipos de dato (int y str), por ende, se procederá a convertir estas tres columnas en tipo str solamente."
   ]
  },
  {
   "cell_type": "code",
   "execution_count": 28,
   "metadata": {},
   "outputs": [
    {
     "data": {
      "text/html": [
       "<div>\n",
       "<style scoped>\n",
       "    .dataframe tbody tr th:only-of-type {\n",
       "        vertical-align: middle;\n",
       "    }\n",
       "\n",
       "    .dataframe tbody tr th {\n",
       "        vertical-align: top;\n",
       "    }\n",
       "\n",
       "    .dataframe thead th {\n",
       "        text-align: right;\n",
       "    }\n",
       "</style>\n",
       "<table border=\"1\" class=\"dataframe\">\n",
       "  <thead>\n",
       "    <tr style=\"text-align: right;\">\n",
       "      <th></th>\n",
       "      <th>nombre_campo</th>\n",
       "      <th>tipo_datos</th>\n",
       "    </tr>\n",
       "  </thead>\n",
       "  <tbody>\n",
       "    <tr>\n",
       "      <th>0</th>\n",
       "      <td>Id</td>\n",
       "      <td>[&lt;class 'str'&gt;]</td>\n",
       "    </tr>\n",
       "    <tr>\n",
       "      <th>1</th>\n",
       "      <td>Cantidad víctimas</td>\n",
       "      <td>[&lt;class 'int'&gt;]</td>\n",
       "    </tr>\n",
       "    <tr>\n",
       "      <th>2</th>\n",
       "      <td>Fecha</td>\n",
       "      <td>[&lt;class 'pandas._libs.tslibs.timestamps.Timest...</td>\n",
       "    </tr>\n",
       "    <tr>\n",
       "      <th>3</th>\n",
       "      <td>Año</td>\n",
       "      <td>[&lt;class 'int'&gt;]</td>\n",
       "    </tr>\n",
       "    <tr>\n",
       "      <th>4</th>\n",
       "      <td>Mes</td>\n",
       "      <td>[&lt;class 'int'&gt;]</td>\n",
       "    </tr>\n",
       "    <tr>\n",
       "      <th>5</th>\n",
       "      <td>Día</td>\n",
       "      <td>[&lt;class 'int'&gt;]</td>\n",
       "    </tr>\n",
       "    <tr>\n",
       "      <th>6</th>\n",
       "      <td>Hora completa</td>\n",
       "      <td>[&lt;class 'datetime.time'&gt;]</td>\n",
       "    </tr>\n",
       "    <tr>\n",
       "      <th>7</th>\n",
       "      <td>Hora</td>\n",
       "      <td>[&lt;class 'int'&gt;]</td>\n",
       "    </tr>\n",
       "    <tr>\n",
       "      <th>8</th>\n",
       "      <td>Tipo de calle</td>\n",
       "      <td>[&lt;class 'str'&gt;]</td>\n",
       "    </tr>\n",
       "    <tr>\n",
       "      <th>9</th>\n",
       "      <td>Calle</td>\n",
       "      <td>[&lt;class 'str'&gt;]</td>\n",
       "    </tr>\n",
       "    <tr>\n",
       "      <th>10</th>\n",
       "      <td>Cruce</td>\n",
       "      <td>[&lt;class 'str'&gt;]</td>\n",
       "    </tr>\n",
       "    <tr>\n",
       "      <th>11</th>\n",
       "      <td>Lugar del hecho</td>\n",
       "      <td>[&lt;class 'str'&gt;]</td>\n",
       "    </tr>\n",
       "    <tr>\n",
       "      <th>12</th>\n",
       "      <td>Comuna</td>\n",
       "      <td>[&lt;class 'int'&gt;]</td>\n",
       "    </tr>\n",
       "    <tr>\n",
       "      <th>13</th>\n",
       "      <td>XY (CABA)</td>\n",
       "      <td>[&lt;class 'str'&gt;, &lt;class 'int'&gt;]</td>\n",
       "    </tr>\n",
       "    <tr>\n",
       "      <th>14</th>\n",
       "      <td>Latitud</td>\n",
       "      <td>[&lt;class 'str'&gt;, &lt;class 'int'&gt;]</td>\n",
       "    </tr>\n",
       "    <tr>\n",
       "      <th>15</th>\n",
       "      <td>Longitud</td>\n",
       "      <td>[&lt;class 'str'&gt;, &lt;class 'int'&gt;]</td>\n",
       "    </tr>\n",
       "    <tr>\n",
       "      <th>16</th>\n",
       "      <td>Participantes</td>\n",
       "      <td>[&lt;class 'str'&gt;]</td>\n",
       "    </tr>\n",
       "    <tr>\n",
       "      <th>17</th>\n",
       "      <td>Víctima</td>\n",
       "      <td>[&lt;class 'str'&gt;]</td>\n",
       "    </tr>\n",
       "    <tr>\n",
       "      <th>18</th>\n",
       "      <td>Acusado</td>\n",
       "      <td>[&lt;class 'str'&gt;]</td>\n",
       "    </tr>\n",
       "  </tbody>\n",
       "</table>\n",
       "</div>"
      ],
      "text/plain": [
       "         nombre_campo                                         tipo_datos\n",
       "0                  Id                                    [<class 'str'>]\n",
       "1   Cantidad víctimas                                    [<class 'int'>]\n",
       "2               Fecha  [<class 'pandas._libs.tslibs.timestamps.Timest...\n",
       "3                 Año                                    [<class 'int'>]\n",
       "4                 Mes                                    [<class 'int'>]\n",
       "5                 Día                                    [<class 'int'>]\n",
       "6       Hora completa                          [<class 'datetime.time'>]\n",
       "7                Hora                                    [<class 'int'>]\n",
       "8       Tipo de calle                                    [<class 'str'>]\n",
       "9               Calle                                    [<class 'str'>]\n",
       "10              Cruce                                    [<class 'str'>]\n",
       "11    Lugar del hecho                                    [<class 'str'>]\n",
       "12             Comuna                                    [<class 'int'>]\n",
       "13          XY (CABA)                     [<class 'str'>, <class 'int'>]\n",
       "14            Latitud                     [<class 'str'>, <class 'int'>]\n",
       "15           Longitud                     [<class 'str'>, <class 'int'>]\n",
       "16      Participantes                                    [<class 'str'>]\n",
       "17            Víctima                                    [<class 'str'>]\n",
       "18            Acusado                                    [<class 'str'>]"
      ]
     },
     "execution_count": 28,
     "metadata": {},
     "output_type": "execute_result"
    }
   ],
   "source": [
    "# Chequeo tipo de dato de las columnas\n",
    "funciones.verificar_tipo_dato(df_hechos)"
   ]
  },
  {
   "cell_type": "code",
   "execution_count": 29,
   "metadata": {},
   "outputs": [],
   "source": [
    "# Convertir las columnas específicas de tipo (int y str) a tipo str\n",
    "df_hechos['XY (CABA)'] = df_hechos['XY (CABA)'].astype(str)\n",
    "df_hechos['Latitud'] = df_hechos['Latitud'].astype(str)\n",
    "df_hechos['Longitud'] = df_hechos['Longitud'].astype(str)"
   ]
  },
  {
   "cell_type": "markdown",
   "metadata": {},
   "source": [
    "### 2. Tabla de Víctimas"
   ]
  },
  {
   "cell_type": "markdown",
   "metadata": {},
   "source": [
    "Carga de los datos, utilizando la librería pandas y openpyxl."
   ]
  },
  {
   "cell_type": "code",
   "execution_count": 30,
   "metadata": {},
   "outputs": [
    {
     "data": {
      "text/html": [
       "<div>\n",
       "<style scoped>\n",
       "    .dataframe tbody tr th:only-of-type {\n",
       "        vertical-align: middle;\n",
       "    }\n",
       "\n",
       "    .dataframe tbody tr th {\n",
       "        vertical-align: top;\n",
       "    }\n",
       "\n",
       "    .dataframe thead th {\n",
       "        text-align: right;\n",
       "    }\n",
       "</style>\n",
       "<table border=\"1\" class=\"dataframe\">\n",
       "  <thead>\n",
       "    <tr style=\"text-align: right;\">\n",
       "      <th></th>\n",
       "      <th>ID_hecho</th>\n",
       "      <th>FECHA</th>\n",
       "      <th>AAAA</th>\n",
       "      <th>MM</th>\n",
       "      <th>DD</th>\n",
       "      <th>ROL</th>\n",
       "      <th>VICTIMA</th>\n",
       "      <th>SEXO</th>\n",
       "      <th>EDAD</th>\n",
       "      <th>FECHA_FALLECIMIENTO</th>\n",
       "    </tr>\n",
       "  </thead>\n",
       "  <tbody>\n",
       "    <tr>\n",
       "      <th>0</th>\n",
       "      <td>2016-0001</td>\n",
       "      <td>2016-01-01</td>\n",
       "      <td>2016</td>\n",
       "      <td>1</td>\n",
       "      <td>1</td>\n",
       "      <td>CONDUCTOR</td>\n",
       "      <td>MOTO</td>\n",
       "      <td>MASCULINO</td>\n",
       "      <td>19</td>\n",
       "      <td>2016-01-01 00:00:00</td>\n",
       "    </tr>\n",
       "    <tr>\n",
       "      <th>1</th>\n",
       "      <td>2016-0002</td>\n",
       "      <td>2016-01-02</td>\n",
       "      <td>2016</td>\n",
       "      <td>1</td>\n",
       "      <td>2</td>\n",
       "      <td>CONDUCTOR</td>\n",
       "      <td>AUTO</td>\n",
       "      <td>MASCULINO</td>\n",
       "      <td>70</td>\n",
       "      <td>2016-01-02 00:00:00</td>\n",
       "    </tr>\n",
       "    <tr>\n",
       "      <th>2</th>\n",
       "      <td>2016-0003</td>\n",
       "      <td>2016-01-03</td>\n",
       "      <td>2016</td>\n",
       "      <td>1</td>\n",
       "      <td>3</td>\n",
       "      <td>CONDUCTOR</td>\n",
       "      <td>MOTO</td>\n",
       "      <td>MASCULINO</td>\n",
       "      <td>30</td>\n",
       "      <td>2016-01-03 00:00:00</td>\n",
       "    </tr>\n",
       "  </tbody>\n",
       "</table>\n",
       "</div>"
      ],
      "text/plain": [
       "    ID_hecho      FECHA  AAAA  MM  DD        ROL VICTIMA       SEXO EDAD  \\\n",
       "0  2016-0001 2016-01-01  2016   1   1  CONDUCTOR    MOTO  MASCULINO   19   \n",
       "1  2016-0002 2016-01-02  2016   1   2  CONDUCTOR    AUTO  MASCULINO   70   \n",
       "2  2016-0003 2016-01-03  2016   1   3  CONDUCTOR    MOTO  MASCULINO   30   \n",
       "\n",
       "   FECHA_FALLECIMIENTO  \n",
       "0  2016-01-01 00:00:00  \n",
       "1  2016-01-02 00:00:00  \n",
       "2  2016-01-03 00:00:00  "
      ]
     },
     "execution_count": 30,
     "metadata": {},
     "output_type": "execute_result"
    }
   ],
   "source": [
    "df_victimas= pd.read_excel('homicidios.xlsx', sheet_name='VICTIMAS')\n",
    "df_victimas.head(3)"
   ]
  },
  {
   "cell_type": "markdown",
   "metadata": {},
   "source": [
    "Se visualizan las columnas que componen esta tabla: 10 columnas."
   ]
  },
  {
   "cell_type": "code",
   "execution_count": 31,
   "metadata": {},
   "outputs": [
    {
     "data": {
      "text/plain": [
       "Index(['ID_hecho', 'FECHA', 'AAAA', 'MM', 'DD', 'ROL', 'VICTIMA', 'SEXO',\n",
       "       'EDAD', 'FECHA_FALLECIMIENTO'],\n",
       "      dtype='object')"
      ]
     },
     "execution_count": 31,
     "metadata": {},
     "output_type": "execute_result"
    }
   ],
   "source": [
    "df_victimas.columns"
   ]
  },
  {
   "cell_type": "markdown",
   "metadata": {},
   "source": [
    "Normalización de los nombres de las columnas, para que todas queden en un mismo formato."
   ]
  },
  {
   "cell_type": "code",
   "execution_count": 32,
   "metadata": {},
   "outputs": [
    {
     "data": {
      "text/plain": [
       "Index(['Id', 'Fecha', 'Año', 'Mes', 'Día', 'Rol', 'Víctima', 'Sexo', 'Edad',\n",
       "       'Fecha fallecimiento'],\n",
       "      dtype='object')"
      ]
     },
     "execution_count": 32,
     "metadata": {},
     "output_type": "execute_result"
    }
   ],
   "source": [
    "# Se coloca la primera en mayúscula\n",
    "df_victimas.columns = [x.capitalize() for x in df_victimas.columns]\n",
    "\n",
    "# Se reemplazan los guiones por espacios\n",
    "df_victimas.columns = df_victimas.columns.str.replace('_', ' ')\n",
    "\n",
    "# Se renombran algunas columnas\n",
    "df_victimas = df_victimas.rename(columns={'Id hecho': 'Id',\n",
    "                                          'Aaaa':'Año',\n",
    "                                          'Mm':'Mes',\n",
    "                                          'Dd':'Día',\n",
    "                                          'Victima':'Víctima'})\n",
    "df_victimas.columns"
   ]
  },
  {
   "cell_type": "markdown",
   "metadata": {},
   "source": [
    "El número total de registros o filas que contiene la tabla Víctimas son 717."
   ]
  },
  {
   "cell_type": "code",
   "execution_count": 33,
   "metadata": {},
   "outputs": [
    {
     "data": {
      "text/plain": [
       "717"
      ]
     },
     "execution_count": 33,
     "metadata": {},
     "output_type": "execute_result"
    }
   ],
   "source": [
    "df_victimas.shape[0]"
   ]
  },
  {
   "cell_type": "markdown",
   "metadata": {},
   "source": [
    "#### 2.1 Chequeo de Nulos:"
   ]
  },
  {
   "cell_type": "markdown",
   "metadata": {},
   "source": [
    "No se observan columnas con valores nulos."
   ]
  },
  {
   "cell_type": "code",
   "execution_count": 34,
   "metadata": {},
   "outputs": [
    {
     "data": {
      "text/plain": [
       "Id                     0\n",
       "Fecha                  0\n",
       "Año                    0\n",
       "Mes                    0\n",
       "Día                    0\n",
       "Rol                    0\n",
       "Víctima                0\n",
       "Sexo                   0\n",
       "Edad                   0\n",
       "Fecha fallecimiento    0\n",
       "dtype: int64"
      ]
     },
     "execution_count": 34,
     "metadata": {},
     "output_type": "execute_result"
    }
   ],
   "source": [
    "df_victimas.isnull().sum()"
   ]
  },
  {
   "cell_type": "markdown",
   "metadata": {},
   "source": [
    "#### 2.2 Valores faltantes:"
   ]
  },
  {
   "cell_type": "markdown",
   "metadata": {},
   "source": [
    "Teniendo en cuenta la lógica del Dataset y ya habiendo analizado la Tabla Hechos, se puede concluir que SD alude a Sin Dato, por ende, a datos faltantes; procederemos entonces a realizar un chequeo de estos."
   ]
  },
  {
   "cell_type": "code",
   "execution_count": 35,
   "metadata": {},
   "outputs": [
    {
     "data": {
      "text/plain": [
       "Id                      0\n",
       "Fecha                   0\n",
       "Año                     0\n",
       "Mes                     0\n",
       "Día                     0\n",
       "Rol                    11\n",
       "Víctima                 9\n",
       "Sexo                    6\n",
       "Edad                   53\n",
       "Fecha fallecimiento    68\n",
       "dtype: int64"
      ]
     },
     "execution_count": 35,
     "metadata": {},
     "output_type": "execute_result"
    }
   ],
   "source": [
    "df_victimas.apply(lambda x: (x == 'SD').sum())"
   ]
  },
  {
   "cell_type": "markdown",
   "metadata": {},
   "source": [
    "Se puede observar que tenemos 11 valores faltantes en la columna 'Rol', 9 valores faltantes en la columna 'Víctima' y 6 valores faltantes en la columna 'Sexo'. Estos se procederán a llenar con el valor más frecuente presente en dichas columnas, utilizando para esto la función \"ingresa_valor_moda\" que se encuentra en el archivo funciones.py"
   ]
  },
  {
   "cell_type": "code",
   "execution_count": 36,
   "metadata": {},
   "outputs": [
    {
     "name": "stdout",
     "output_type": "stream",
     "text": [
      "El valor más frecuente de Rol es: CONDUCTOR\n",
      "El valor más frecuente de Víctima es: MOTO\n",
      "El valor más frecuente de Sexo es: MASCULINO\n"
     ]
    }
   ],
   "source": [
    "# Se modifica la columna Rol\n",
    "funciones.ingresa_valor_moda(df_victimas, 'Rol')\n",
    "\n",
    "# Se modifica la columna Víctima\n",
    "funciones.ingresa_valor_moda(df_victimas, 'Víctima')\n",
    "\n",
    "# Se modifica la columna Sexo\n",
    "funciones.ingresa_valor_moda(df_victimas, 'Sexo')"
   ]
  },
  {
   "cell_type": "markdown",
   "metadata": {},
   "source": [
    "Continuamos con el cambio de SD en la columna 'Edad'... de igual forma esta se llenará con el valor más frecuente, pero esto se hará teniendo en cuenta una agrupación de edades promedio de la columna 'Sexo'. Para llevar a cabo esta operación utilizaremos la función \"ingresa_edad_segun_sexo\" que se encuentra en el archivo funciones.py"
   ]
  },
  {
   "cell_type": "code",
   "execution_count": 37,
   "metadata": {},
   "outputs": [
    {
     "name": "stdout",
     "output_type": "stream",
     "text": [
      "La edad promedio de Femenino es 51 y de Masculino es 40\n"
     ]
    }
   ],
   "source": [
    "funciones.ingresa_edad_segun_sexo(df_victimas)"
   ]
  },
  {
   "cell_type": "markdown",
   "metadata": {},
   "source": [
    "Por último, podemos ver también que en la columna 'Fecha fallecimiento' hay valores faltantes. Debido a que necesitamos datos que nos ayuden a tomar decisiones para disminuir la cantidad de siniestros, se decide eliminar dicha columna ya que no aporta datos de interés."
   ]
  },
  {
   "cell_type": "code",
   "execution_count": 38,
   "metadata": {},
   "outputs": [
    {
     "data": {
      "text/html": [
       "<div>\n",
       "<style scoped>\n",
       "    .dataframe tbody tr th:only-of-type {\n",
       "        vertical-align: middle;\n",
       "    }\n",
       "\n",
       "    .dataframe tbody tr th {\n",
       "        vertical-align: top;\n",
       "    }\n",
       "\n",
       "    .dataframe thead th {\n",
       "        text-align: right;\n",
       "    }\n",
       "</style>\n",
       "<table border=\"1\" class=\"dataframe\">\n",
       "  <thead>\n",
       "    <tr style=\"text-align: right;\">\n",
       "      <th></th>\n",
       "      <th>Id</th>\n",
       "      <th>Fecha</th>\n",
       "      <th>Año</th>\n",
       "      <th>Mes</th>\n",
       "      <th>Día</th>\n",
       "      <th>Rol</th>\n",
       "      <th>Víctima</th>\n",
       "      <th>Sexo</th>\n",
       "      <th>Edad</th>\n",
       "    </tr>\n",
       "  </thead>\n",
       "  <tbody>\n",
       "    <tr>\n",
       "      <th>0</th>\n",
       "      <td>2016-0001</td>\n",
       "      <td>2016-01-01</td>\n",
       "      <td>2016</td>\n",
       "      <td>1</td>\n",
       "      <td>1</td>\n",
       "      <td>CONDUCTOR</td>\n",
       "      <td>MOTO</td>\n",
       "      <td>MASCULINO</td>\n",
       "      <td>19</td>\n",
       "    </tr>\n",
       "    <tr>\n",
       "      <th>1</th>\n",
       "      <td>2016-0002</td>\n",
       "      <td>2016-01-02</td>\n",
       "      <td>2016</td>\n",
       "      <td>1</td>\n",
       "      <td>2</td>\n",
       "      <td>CONDUCTOR</td>\n",
       "      <td>AUTO</td>\n",
       "      <td>MASCULINO</td>\n",
       "      <td>70</td>\n",
       "    </tr>\n",
       "    <tr>\n",
       "      <th>2</th>\n",
       "      <td>2016-0003</td>\n",
       "      <td>2016-01-03</td>\n",
       "      <td>2016</td>\n",
       "      <td>1</td>\n",
       "      <td>3</td>\n",
       "      <td>CONDUCTOR</td>\n",
       "      <td>MOTO</td>\n",
       "      <td>MASCULINO</td>\n",
       "      <td>30</td>\n",
       "    </tr>\n",
       "  </tbody>\n",
       "</table>\n",
       "</div>"
      ],
      "text/plain": [
       "          Id      Fecha   Año  Mes  Día        Rol Víctima       Sexo  Edad\n",
       "0  2016-0001 2016-01-01  2016    1    1  CONDUCTOR    MOTO  MASCULINO    19\n",
       "1  2016-0002 2016-01-02  2016    1    2  CONDUCTOR    AUTO  MASCULINO    70\n",
       "2  2016-0003 2016-01-03  2016    1    3  CONDUCTOR    MOTO  MASCULINO    30"
      ]
     },
     "execution_count": 38,
     "metadata": {},
     "output_type": "execute_result"
    }
   ],
   "source": [
    "df_victimas = df_victimas.drop('Fecha fallecimiento', axis=1)\n",
    "\n",
    "# Se verifica que se haya eliminado la columna\n",
    "df_victimas.head(3)"
   ]
  },
  {
   "cell_type": "markdown",
   "metadata": {},
   "source": [
    "#### 2.3 Registros Duplicados:"
   ]
  },
  {
   "cell_type": "markdown",
   "metadata": {},
   "source": [
    "Se puede observar que no hay filas exactamente iguales y que el número de Id's únicos corresponde con el mismo número de la Tabla Hechos. Por ello, se puede concluir que los Id's repetidos contienen información de las diferentes víctimas implicadas, por ello no se debe proceder con la eliminación de ninguna fila. Para la confirmación de esta conclusión se utilizará la función \"verificar_duplicados\" que se encuentra en el archivo funciones.py"
   ]
  },
  {
   "cell_type": "code",
   "execution_count": 39,
   "metadata": {},
   "outputs": [
    {
     "name": "stdout",
     "output_type": "stream",
     "text": [
      "La columna 'Id' cuenta con 696 valores únicos.\n"
     ]
    },
    {
     "data": {
      "text/html": [
       "<div>\n",
       "<style scoped>\n",
       "    .dataframe tbody tr th:only-of-type {\n",
       "        vertical-align: middle;\n",
       "    }\n",
       "\n",
       "    .dataframe tbody tr th {\n",
       "        vertical-align: top;\n",
       "    }\n",
       "\n",
       "    .dataframe thead th {\n",
       "        text-align: right;\n",
       "    }\n",
       "</style>\n",
       "<table border=\"1\" class=\"dataframe\">\n",
       "  <thead>\n",
       "    <tr style=\"text-align: right;\">\n",
       "      <th></th>\n",
       "      <th>Id</th>\n",
       "      <th>Fecha</th>\n",
       "      <th>Año</th>\n",
       "      <th>Mes</th>\n",
       "      <th>Día</th>\n",
       "      <th>Rol</th>\n",
       "      <th>Víctima</th>\n",
       "      <th>Sexo</th>\n",
       "      <th>Edad</th>\n",
       "    </tr>\n",
       "  </thead>\n",
       "  <tbody>\n",
       "  </tbody>\n",
       "</table>\n",
       "</div>"
      ],
      "text/plain": [
       "Empty DataFrame\n",
       "Columns: [Id, Fecha, Año, Mes, Día, Rol, Víctima, Sexo, Edad]\n",
       "Index: []"
      ]
     },
     "execution_count": 39,
     "metadata": {},
     "output_type": "execute_result"
    }
   ],
   "source": [
    "# Chequeo de cuantos Id de siniestros tiene\n",
    "print(f\"La columna 'Id' cuenta con {len(df_victimas['Id'].unique())} valores únicos.\")\n",
    "\n",
    "# Verificar presencia de filas exactamente iguales\n",
    "df_victimas[df_victimas.duplicated()]"
   ]
  },
  {
   "cell_type": "code",
   "execution_count": 40,
   "metadata": {},
   "outputs": [
    {
     "data": {
      "text/html": [
       "<div>\n",
       "<style scoped>\n",
       "    .dataframe tbody tr th:only-of-type {\n",
       "        vertical-align: middle;\n",
       "    }\n",
       "\n",
       "    .dataframe tbody tr th {\n",
       "        vertical-align: top;\n",
       "    }\n",
       "\n",
       "    .dataframe thead th {\n",
       "        text-align: right;\n",
       "    }\n",
       "</style>\n",
       "<table border=\"1\" class=\"dataframe\">\n",
       "  <thead>\n",
       "    <tr style=\"text-align: right;\">\n",
       "      <th></th>\n",
       "      <th>Id</th>\n",
       "      <th>Fecha</th>\n",
       "      <th>Año</th>\n",
       "      <th>Mes</th>\n",
       "      <th>Día</th>\n",
       "      <th>Rol</th>\n",
       "      <th>Víctima</th>\n",
       "      <th>Sexo</th>\n",
       "      <th>Edad</th>\n",
       "    </tr>\n",
       "  </thead>\n",
       "  <tbody>\n",
       "    <tr>\n",
       "      <th>29</th>\n",
       "      <td>2016-0041</td>\n",
       "      <td>2016-03-29</td>\n",
       "      <td>2016</td>\n",
       "      <td>3</td>\n",
       "      <td>29</td>\n",
       "      <td>CONDUCTOR</td>\n",
       "      <td>MOTO</td>\n",
       "      <td>MASCULINO</td>\n",
       "      <td>54</td>\n",
       "    </tr>\n",
       "    <tr>\n",
       "      <th>30</th>\n",
       "      <td>2016-0041</td>\n",
       "      <td>2016-03-29</td>\n",
       "      <td>2016</td>\n",
       "      <td>3</td>\n",
       "      <td>29</td>\n",
       "      <td>PASAJERO_ACOMPAÑANTE</td>\n",
       "      <td>MOTO</td>\n",
       "      <td>MASCULINO</td>\n",
       "      <td>39</td>\n",
       "    </tr>\n",
       "    <tr>\n",
       "      <th>98</th>\n",
       "      <td>2016-0126</td>\n",
       "      <td>2016-09-18</td>\n",
       "      <td>2016</td>\n",
       "      <td>9</td>\n",
       "      <td>18</td>\n",
       "      <td>CONDUCTOR</td>\n",
       "      <td>AUTO</td>\n",
       "      <td>MASCULINO</td>\n",
       "      <td>37</td>\n",
       "    </tr>\n",
       "    <tr>\n",
       "      <th>99</th>\n",
       "      <td>2016-0126</td>\n",
       "      <td>2016-09-18</td>\n",
       "      <td>2016</td>\n",
       "      <td>9</td>\n",
       "      <td>18</td>\n",
       "      <td>PASAJERO_ACOMPAÑANTE</td>\n",
       "      <td>AUTO</td>\n",
       "      <td>MASCULINO</td>\n",
       "      <td>60</td>\n",
       "    </tr>\n",
       "    <tr>\n",
       "      <th>163</th>\n",
       "      <td>2017-0026</td>\n",
       "      <td>2017-02-26</td>\n",
       "      <td>2017</td>\n",
       "      <td>2</td>\n",
       "      <td>26</td>\n",
       "      <td>PASAJERO_ACOMPAÑANTE</td>\n",
       "      <td>AUTO</td>\n",
       "      <td>FEMENINO</td>\n",
       "      <td>23</td>\n",
       "    </tr>\n",
       "    <tr>\n",
       "      <th>164</th>\n",
       "      <td>2017-0026</td>\n",
       "      <td>2017-02-26</td>\n",
       "      <td>2017</td>\n",
       "      <td>2</td>\n",
       "      <td>26</td>\n",
       "      <td>CONDUCTOR</td>\n",
       "      <td>AUTO</td>\n",
       "      <td>MASCULINO</td>\n",
       "      <td>19</td>\n",
       "    </tr>\n",
       "    <tr>\n",
       "      <th>173</th>\n",
       "      <td>2017-0035</td>\n",
       "      <td>2017-03-23</td>\n",
       "      <td>2017</td>\n",
       "      <td>3</td>\n",
       "      <td>23</td>\n",
       "      <td>CONDUCTOR</td>\n",
       "      <td>AUTO</td>\n",
       "      <td>MASCULINO</td>\n",
       "      <td>28</td>\n",
       "    </tr>\n",
       "    <tr>\n",
       "      <th>174</th>\n",
       "      <td>2017-0035</td>\n",
       "      <td>2017-03-23</td>\n",
       "      <td>2017</td>\n",
       "      <td>3</td>\n",
       "      <td>23</td>\n",
       "      <td>PASAJERO_ACOMPAÑANTE</td>\n",
       "      <td>AUTO</td>\n",
       "      <td>MASCULINO</td>\n",
       "      <td>32</td>\n",
       "    </tr>\n",
       "    <tr>\n",
       "      <th>175</th>\n",
       "      <td>2017-0035</td>\n",
       "      <td>2017-03-23</td>\n",
       "      <td>2017</td>\n",
       "      <td>3</td>\n",
       "      <td>23</td>\n",
       "      <td>PASAJERO_ACOMPAÑANTE</td>\n",
       "      <td>AUTO</td>\n",
       "      <td>MASCULINO</td>\n",
       "      <td>30</td>\n",
       "    </tr>\n",
       "    <tr>\n",
       "      <th>177</th>\n",
       "      <td>2017-0036</td>\n",
       "      <td>2017-03-29</td>\n",
       "      <td>2017</td>\n",
       "      <td>3</td>\n",
       "      <td>29</td>\n",
       "      <td>CONDUCTOR</td>\n",
       "      <td>MOTO</td>\n",
       "      <td>MASCULINO</td>\n",
       "      <td>20</td>\n",
       "    </tr>\n",
       "    <tr>\n",
       "      <th>176</th>\n",
       "      <td>2017-0036</td>\n",
       "      <td>2017-03-29</td>\n",
       "      <td>2017</td>\n",
       "      <td>3</td>\n",
       "      <td>29</td>\n",
       "      <td>PASAJERO_ACOMPAÑANTE</td>\n",
       "      <td>MOTO</td>\n",
       "      <td>FEMENINO</td>\n",
       "      <td>50</td>\n",
       "    </tr>\n",
       "    <tr>\n",
       "      <th>186</th>\n",
       "      <td>2017-0050</td>\n",
       "      <td>2017-04-28</td>\n",
       "      <td>2017</td>\n",
       "      <td>4</td>\n",
       "      <td>28</td>\n",
       "      <td>CONDUCTOR</td>\n",
       "      <td>MOTO</td>\n",
       "      <td>MASCULINO</td>\n",
       "      <td>46</td>\n",
       "    </tr>\n",
       "    <tr>\n",
       "      <th>187</th>\n",
       "      <td>2017-0050</td>\n",
       "      <td>2017-04-28</td>\n",
       "      <td>2017</td>\n",
       "      <td>4</td>\n",
       "      <td>28</td>\n",
       "      <td>PASAJERO_ACOMPAÑANTE</td>\n",
       "      <td>MOTO</td>\n",
       "      <td>MASCULINO</td>\n",
       "      <td>16</td>\n",
       "    </tr>\n",
       "    <tr>\n",
       "      <th>237</th>\n",
       "      <td>2017-0108</td>\n",
       "      <td>2017-09-02</td>\n",
       "      <td>2017</td>\n",
       "      <td>9</td>\n",
       "      <td>2</td>\n",
       "      <td>PASAJERO_ACOMPAÑANTE</td>\n",
       "      <td>AUTO</td>\n",
       "      <td>MASCULINO</td>\n",
       "      <td>17</td>\n",
       "    </tr>\n",
       "    <tr>\n",
       "      <th>238</th>\n",
       "      <td>2017-0108</td>\n",
       "      <td>2017-09-02</td>\n",
       "      <td>2017</td>\n",
       "      <td>9</td>\n",
       "      <td>2</td>\n",
       "      <td>PASAJERO_ACOMPAÑANTE</td>\n",
       "      <td>AUTO</td>\n",
       "      <td>MASCULINO</td>\n",
       "      <td>10</td>\n",
       "    </tr>\n",
       "    <tr>\n",
       "      <th>242</th>\n",
       "      <td>2017-0112</td>\n",
       "      <td>2017-09-10</td>\n",
       "      <td>2017</td>\n",
       "      <td>9</td>\n",
       "      <td>10</td>\n",
       "      <td>PASAJERO_ACOMPAÑANTE</td>\n",
       "      <td>AUTO</td>\n",
       "      <td>MASCULINO</td>\n",
       "      <td>1</td>\n",
       "    </tr>\n",
       "    <tr>\n",
       "      <th>243</th>\n",
       "      <td>2017-0112</td>\n",
       "      <td>2017-09-10</td>\n",
       "      <td>2017</td>\n",
       "      <td>9</td>\n",
       "      <td>10</td>\n",
       "      <td>PASAJERO_ACOMPAÑANTE</td>\n",
       "      <td>AUTO</td>\n",
       "      <td>MASCULINO</td>\n",
       "      <td>39</td>\n",
       "    </tr>\n",
       "    <tr>\n",
       "      <th>253</th>\n",
       "      <td>2017-0126</td>\n",
       "      <td>2017-10-14</td>\n",
       "      <td>2017</td>\n",
       "      <td>10</td>\n",
       "      <td>14</td>\n",
       "      <td>PASAJERO_ACOMPAÑANTE</td>\n",
       "      <td>AUTO</td>\n",
       "      <td>MASCULINO</td>\n",
       "      <td>39</td>\n",
       "    </tr>\n",
       "    <tr>\n",
       "      <th>254</th>\n",
       "      <td>2017-0126</td>\n",
       "      <td>2017-10-14</td>\n",
       "      <td>2017</td>\n",
       "      <td>10</td>\n",
       "      <td>14</td>\n",
       "      <td>CONDUCTOR</td>\n",
       "      <td>AUTO</td>\n",
       "      <td>MASCULINO</td>\n",
       "      <td>36</td>\n",
       "    </tr>\n",
       "    <tr>\n",
       "      <th>278</th>\n",
       "      <td>2017-0153</td>\n",
       "      <td>2017-12-11</td>\n",
       "      <td>2017</td>\n",
       "      <td>12</td>\n",
       "      <td>11</td>\n",
       "      <td>CONDUCTOR</td>\n",
       "      <td>MOTO</td>\n",
       "      <td>MASCULINO</td>\n",
       "      <td>30</td>\n",
       "    </tr>\n",
       "    <tr>\n",
       "      <th>277</th>\n",
       "      <td>2017-0153</td>\n",
       "      <td>2017-12-11</td>\n",
       "      <td>2017</td>\n",
       "      <td>12</td>\n",
       "      <td>11</td>\n",
       "      <td>PASAJERO_ACOMPAÑANTE</td>\n",
       "      <td>MOTO</td>\n",
       "      <td>MASCULINO</td>\n",
       "      <td>39</td>\n",
       "    </tr>\n",
       "    <tr>\n",
       "      <th>300</th>\n",
       "      <td>2018-0015</td>\n",
       "      <td>2018-02-06</td>\n",
       "      <td>2018</td>\n",
       "      <td>2</td>\n",
       "      <td>6</td>\n",
       "      <td>CONDUCTOR</td>\n",
       "      <td>MOTO</td>\n",
       "      <td>MASCULINO</td>\n",
       "      <td>28</td>\n",
       "    </tr>\n",
       "    <tr>\n",
       "      <th>301</th>\n",
       "      <td>2018-0015</td>\n",
       "      <td>2018-02-06</td>\n",
       "      <td>2018</td>\n",
       "      <td>2</td>\n",
       "      <td>6</td>\n",
       "      <td>PASAJERO_ACOMPAÑANTE</td>\n",
       "      <td>MOTO</td>\n",
       "      <td>MASCULINO</td>\n",
       "      <td>19</td>\n",
       "    </tr>\n",
       "    <tr>\n",
       "      <th>312</th>\n",
       "      <td>2018-0026</td>\n",
       "      <td>2018-03-09</td>\n",
       "      <td>2018</td>\n",
       "      <td>3</td>\n",
       "      <td>9</td>\n",
       "      <td>CONDUCTOR</td>\n",
       "      <td>MOVIL</td>\n",
       "      <td>MASCULINO</td>\n",
       "      <td>24</td>\n",
       "    </tr>\n",
       "    <tr>\n",
       "      <th>313</th>\n",
       "      <td>2018-0026</td>\n",
       "      <td>2018-03-09</td>\n",
       "      <td>2018</td>\n",
       "      <td>3</td>\n",
       "      <td>9</td>\n",
       "      <td>PASAJERO_ACOMPAÑANTE</td>\n",
       "      <td>MOVIL</td>\n",
       "      <td>MASCULINO</td>\n",
       "      <td>30</td>\n",
       "    </tr>\n",
       "    <tr>\n",
       "      <th>325</th>\n",
       "      <td>2018-0038</td>\n",
       "      <td>2018-04-20</td>\n",
       "      <td>2018</td>\n",
       "      <td>4</td>\n",
       "      <td>20</td>\n",
       "      <td>PEATON</td>\n",
       "      <td>PEATON</td>\n",
       "      <td>FEMENINO</td>\n",
       "      <td>59</td>\n",
       "    </tr>\n",
       "    <tr>\n",
       "      <th>326</th>\n",
       "      <td>2018-0038</td>\n",
       "      <td>2018-04-20</td>\n",
       "      <td>2018</td>\n",
       "      <td>4</td>\n",
       "      <td>20</td>\n",
       "      <td>PEATON</td>\n",
       "      <td>PEATON</td>\n",
       "      <td>MASCULINO</td>\n",
       "      <td>61</td>\n",
       "    </tr>\n",
       "    <tr>\n",
       "      <th>373</th>\n",
       "      <td>2018-0085</td>\n",
       "      <td>2018-08-03</td>\n",
       "      <td>2018</td>\n",
       "      <td>8</td>\n",
       "      <td>3</td>\n",
       "      <td>PASAJERO_ACOMPAÑANTE</td>\n",
       "      <td>MOTO</td>\n",
       "      <td>FEMENINO</td>\n",
       "      <td>22</td>\n",
       "    </tr>\n",
       "    <tr>\n",
       "      <th>374</th>\n",
       "      <td>2018-0085</td>\n",
       "      <td>2018-08-03</td>\n",
       "      <td>2018</td>\n",
       "      <td>8</td>\n",
       "      <td>3</td>\n",
       "      <td>CONDUCTOR</td>\n",
       "      <td>MOTO</td>\n",
       "      <td>MASCULINO</td>\n",
       "      <td>30</td>\n",
       "    </tr>\n",
       "    <tr>\n",
       "      <th>388</th>\n",
       "      <td>2018-0098</td>\n",
       "      <td>2018-09-09</td>\n",
       "      <td>2018</td>\n",
       "      <td>9</td>\n",
       "      <td>9</td>\n",
       "      <td>PASAJERO_ACOMPAÑANTE</td>\n",
       "      <td>AUTO</td>\n",
       "      <td>MASCULINO</td>\n",
       "      <td>54</td>\n",
       "    </tr>\n",
       "    <tr>\n",
       "      <th>387</th>\n",
       "      <td>2018-0098</td>\n",
       "      <td>2018-09-09</td>\n",
       "      <td>2018</td>\n",
       "      <td>9</td>\n",
       "      <td>9</td>\n",
       "      <td>CONDUCTOR</td>\n",
       "      <td>AUTO</td>\n",
       "      <td>MASCULINO</td>\n",
       "      <td>55</td>\n",
       "    </tr>\n",
       "    <tr>\n",
       "      <th>418</th>\n",
       "      <td>2018-0128</td>\n",
       "      <td>2018-11-25</td>\n",
       "      <td>2018</td>\n",
       "      <td>11</td>\n",
       "      <td>25</td>\n",
       "      <td>PASAJERO_ACOMPAÑANTE</td>\n",
       "      <td>AUTO</td>\n",
       "      <td>MASCULINO</td>\n",
       "      <td>49</td>\n",
       "    </tr>\n",
       "    <tr>\n",
       "      <th>419</th>\n",
       "      <td>2018-0128</td>\n",
       "      <td>2018-11-25</td>\n",
       "      <td>2018</td>\n",
       "      <td>11</td>\n",
       "      <td>25</td>\n",
       "      <td>PASAJERO_ACOMPAÑANTE</td>\n",
       "      <td>AUTO</td>\n",
       "      <td>FEMENINO</td>\n",
       "      <td>39</td>\n",
       "    </tr>\n",
       "    <tr>\n",
       "      <th>444</th>\n",
       "      <td>2019-0010</td>\n",
       "      <td>2019-02-02</td>\n",
       "      <td>2019</td>\n",
       "      <td>2</td>\n",
       "      <td>2</td>\n",
       "      <td>PEATON</td>\n",
       "      <td>PEATON</td>\n",
       "      <td>MASCULINO</td>\n",
       "      <td>39</td>\n",
       "    </tr>\n",
       "    <tr>\n",
       "      <th>445</th>\n",
       "      <td>2019-0010</td>\n",
       "      <td>2019-02-02</td>\n",
       "      <td>2019</td>\n",
       "      <td>2</td>\n",
       "      <td>2</td>\n",
       "      <td>PEATON</td>\n",
       "      <td>PEATON</td>\n",
       "      <td>MASCULINO</td>\n",
       "      <td>59</td>\n",
       "    </tr>\n",
       "    <tr>\n",
       "      <th>576</th>\n",
       "      <td>2020-0038</td>\n",
       "      <td>2020-08-30</td>\n",
       "      <td>2020</td>\n",
       "      <td>8</td>\n",
       "      <td>30</td>\n",
       "      <td>CONDUCTOR</td>\n",
       "      <td>AUTO</td>\n",
       "      <td>MASCULINO</td>\n",
       "      <td>46</td>\n",
       "    </tr>\n",
       "    <tr>\n",
       "      <th>577</th>\n",
       "      <td>2020-0038</td>\n",
       "      <td>2020-08-30</td>\n",
       "      <td>2020</td>\n",
       "      <td>8</td>\n",
       "      <td>30</td>\n",
       "      <td>CONDUCTOR</td>\n",
       "      <td>AUTO</td>\n",
       "      <td>MASCULINO</td>\n",
       "      <td>64</td>\n",
       "    </tr>\n",
       "    <tr>\n",
       "      <th>602</th>\n",
       "      <td>2020-0063</td>\n",
       "      <td>2020-12-05</td>\n",
       "      <td>2020</td>\n",
       "      <td>12</td>\n",
       "      <td>5</td>\n",
       "      <td>PEATON</td>\n",
       "      <td>PEATON</td>\n",
       "      <td>MASCULINO</td>\n",
       "      <td>38</td>\n",
       "    </tr>\n",
       "    <tr>\n",
       "      <th>603</th>\n",
       "      <td>2020-0063</td>\n",
       "      <td>2020-12-05</td>\n",
       "      <td>2020</td>\n",
       "      <td>12</td>\n",
       "      <td>5</td>\n",
       "      <td>PASAJERO_ACOMPAÑANTE</td>\n",
       "      <td>MOTO</td>\n",
       "      <td>MASCULINO</td>\n",
       "      <td>21</td>\n",
       "    </tr>\n",
       "    <tr>\n",
       "      <th>616</th>\n",
       "      <td>2020-0077</td>\n",
       "      <td>2020-12-25</td>\n",
       "      <td>2020</td>\n",
       "      <td>12</td>\n",
       "      <td>25</td>\n",
       "      <td>CONDUCTOR</td>\n",
       "      <td>MOTO</td>\n",
       "      <td>FEMENINO</td>\n",
       "      <td>30</td>\n",
       "    </tr>\n",
       "    <tr>\n",
       "      <th>617</th>\n",
       "      <td>2020-0077</td>\n",
       "      <td>2020-12-25</td>\n",
       "      <td>2020</td>\n",
       "      <td>12</td>\n",
       "      <td>25</td>\n",
       "      <td>PASAJERO_ACOMPAÑANTE</td>\n",
       "      <td>MOTO</td>\n",
       "      <td>FEMENINO</td>\n",
       "      <td>24</td>\n",
       "    </tr>\n",
       "  </tbody>\n",
       "</table>\n",
       "</div>"
      ],
      "text/plain": [
       "            Id      Fecha   Año  Mes  Día                   Rol Víctima  \\\n",
       "29   2016-0041 2016-03-29  2016    3   29             CONDUCTOR    MOTO   \n",
       "30   2016-0041 2016-03-29  2016    3   29  PASAJERO_ACOMPAÑANTE    MOTO   \n",
       "98   2016-0126 2016-09-18  2016    9   18             CONDUCTOR    AUTO   \n",
       "99   2016-0126 2016-09-18  2016    9   18  PASAJERO_ACOMPAÑANTE    AUTO   \n",
       "163  2017-0026 2017-02-26  2017    2   26  PASAJERO_ACOMPAÑANTE    AUTO   \n",
       "164  2017-0026 2017-02-26  2017    2   26             CONDUCTOR    AUTO   \n",
       "173  2017-0035 2017-03-23  2017    3   23             CONDUCTOR    AUTO   \n",
       "174  2017-0035 2017-03-23  2017    3   23  PASAJERO_ACOMPAÑANTE    AUTO   \n",
       "175  2017-0035 2017-03-23  2017    3   23  PASAJERO_ACOMPAÑANTE    AUTO   \n",
       "177  2017-0036 2017-03-29  2017    3   29             CONDUCTOR    MOTO   \n",
       "176  2017-0036 2017-03-29  2017    3   29  PASAJERO_ACOMPAÑANTE    MOTO   \n",
       "186  2017-0050 2017-04-28  2017    4   28             CONDUCTOR    MOTO   \n",
       "187  2017-0050 2017-04-28  2017    4   28  PASAJERO_ACOMPAÑANTE    MOTO   \n",
       "237  2017-0108 2017-09-02  2017    9    2  PASAJERO_ACOMPAÑANTE    AUTO   \n",
       "238  2017-0108 2017-09-02  2017    9    2  PASAJERO_ACOMPAÑANTE    AUTO   \n",
       "242  2017-0112 2017-09-10  2017    9   10  PASAJERO_ACOMPAÑANTE    AUTO   \n",
       "243  2017-0112 2017-09-10  2017    9   10  PASAJERO_ACOMPAÑANTE    AUTO   \n",
       "253  2017-0126 2017-10-14  2017   10   14  PASAJERO_ACOMPAÑANTE    AUTO   \n",
       "254  2017-0126 2017-10-14  2017   10   14             CONDUCTOR    AUTO   \n",
       "278  2017-0153 2017-12-11  2017   12   11             CONDUCTOR    MOTO   \n",
       "277  2017-0153 2017-12-11  2017   12   11  PASAJERO_ACOMPAÑANTE    MOTO   \n",
       "300  2018-0015 2018-02-06  2018    2    6             CONDUCTOR    MOTO   \n",
       "301  2018-0015 2018-02-06  2018    2    6  PASAJERO_ACOMPAÑANTE    MOTO   \n",
       "312  2018-0026 2018-03-09  2018    3    9             CONDUCTOR   MOVIL   \n",
       "313  2018-0026 2018-03-09  2018    3    9  PASAJERO_ACOMPAÑANTE   MOVIL   \n",
       "325  2018-0038 2018-04-20  2018    4   20                PEATON  PEATON   \n",
       "326  2018-0038 2018-04-20  2018    4   20                PEATON  PEATON   \n",
       "373  2018-0085 2018-08-03  2018    8    3  PASAJERO_ACOMPAÑANTE    MOTO   \n",
       "374  2018-0085 2018-08-03  2018    8    3             CONDUCTOR    MOTO   \n",
       "388  2018-0098 2018-09-09  2018    9    9  PASAJERO_ACOMPAÑANTE    AUTO   \n",
       "387  2018-0098 2018-09-09  2018    9    9             CONDUCTOR    AUTO   \n",
       "418  2018-0128 2018-11-25  2018   11   25  PASAJERO_ACOMPAÑANTE    AUTO   \n",
       "419  2018-0128 2018-11-25  2018   11   25  PASAJERO_ACOMPAÑANTE    AUTO   \n",
       "444  2019-0010 2019-02-02  2019    2    2                PEATON  PEATON   \n",
       "445  2019-0010 2019-02-02  2019    2    2                PEATON  PEATON   \n",
       "576  2020-0038 2020-08-30  2020    8   30             CONDUCTOR    AUTO   \n",
       "577  2020-0038 2020-08-30  2020    8   30             CONDUCTOR    AUTO   \n",
       "602  2020-0063 2020-12-05  2020   12    5                PEATON  PEATON   \n",
       "603  2020-0063 2020-12-05  2020   12    5  PASAJERO_ACOMPAÑANTE    MOTO   \n",
       "616  2020-0077 2020-12-25  2020   12   25             CONDUCTOR    MOTO   \n",
       "617  2020-0077 2020-12-25  2020   12   25  PASAJERO_ACOMPAÑANTE    MOTO   \n",
       "\n",
       "          Sexo  Edad  \n",
       "29   MASCULINO    54  \n",
       "30   MASCULINO    39  \n",
       "98   MASCULINO    37  \n",
       "99   MASCULINO    60  \n",
       "163   FEMENINO    23  \n",
       "164  MASCULINO    19  \n",
       "173  MASCULINO    28  \n",
       "174  MASCULINO    32  \n",
       "175  MASCULINO    30  \n",
       "177  MASCULINO    20  \n",
       "176   FEMENINO    50  \n",
       "186  MASCULINO    46  \n",
       "187  MASCULINO    16  \n",
       "237  MASCULINO    17  \n",
       "238  MASCULINO    10  \n",
       "242  MASCULINO     1  \n",
       "243  MASCULINO    39  \n",
       "253  MASCULINO    39  \n",
       "254  MASCULINO    36  \n",
       "278  MASCULINO    30  \n",
       "277  MASCULINO    39  \n",
       "300  MASCULINO    28  \n",
       "301  MASCULINO    19  \n",
       "312  MASCULINO    24  \n",
       "313  MASCULINO    30  \n",
       "325   FEMENINO    59  \n",
       "326  MASCULINO    61  \n",
       "373   FEMENINO    22  \n",
       "374  MASCULINO    30  \n",
       "388  MASCULINO    54  \n",
       "387  MASCULINO    55  \n",
       "418  MASCULINO    49  \n",
       "419   FEMENINO    39  \n",
       "444  MASCULINO    39  \n",
       "445  MASCULINO    59  \n",
       "576  MASCULINO    46  \n",
       "577  MASCULINO    64  \n",
       "602  MASCULINO    38  \n",
       "603  MASCULINO    21  \n",
       "616   FEMENINO    30  \n",
       "617   FEMENINO    24  "
      ]
     },
     "execution_count": 40,
     "metadata": {},
     "output_type": "execute_result"
    }
   ],
   "source": [
    "# Chequeo de la conclusión, se está en lo correcto\n",
    "funciones.verificar_duplicados(df_victimas, 'Id')"
   ]
  },
  {
   "cell_type": "markdown",
   "metadata": {},
   "source": [
    "#### 2.4 Tipo de Dato:"
   ]
  },
  {
   "cell_type": "markdown",
   "metadata": {},
   "source": [
    "Verificamos el tipo de dato de las columnas utilizando la función \"verificar_tipo_dato\" que se encuentra en el archivo funciones.py, y podemos observar que todo se encuentra correcto, por ende, no se realizará ningún cambio de tipo de dato."
   ]
  },
  {
   "cell_type": "code",
   "execution_count": 41,
   "metadata": {},
   "outputs": [
    {
     "data": {
      "text/html": [
       "<div>\n",
       "<style scoped>\n",
       "    .dataframe tbody tr th:only-of-type {\n",
       "        vertical-align: middle;\n",
       "    }\n",
       "\n",
       "    .dataframe tbody tr th {\n",
       "        vertical-align: top;\n",
       "    }\n",
       "\n",
       "    .dataframe thead th {\n",
       "        text-align: right;\n",
       "    }\n",
       "</style>\n",
       "<table border=\"1\" class=\"dataframe\">\n",
       "  <thead>\n",
       "    <tr style=\"text-align: right;\">\n",
       "      <th></th>\n",
       "      <th>nombre_campo</th>\n",
       "      <th>tipo_datos</th>\n",
       "    </tr>\n",
       "  </thead>\n",
       "  <tbody>\n",
       "    <tr>\n",
       "      <th>0</th>\n",
       "      <td>Id</td>\n",
       "      <td>[&lt;class 'str'&gt;]</td>\n",
       "    </tr>\n",
       "    <tr>\n",
       "      <th>1</th>\n",
       "      <td>Fecha</td>\n",
       "      <td>[&lt;class 'pandas._libs.tslibs.timestamps.Timest...</td>\n",
       "    </tr>\n",
       "    <tr>\n",
       "      <th>2</th>\n",
       "      <td>Año</td>\n",
       "      <td>[&lt;class 'int'&gt;]</td>\n",
       "    </tr>\n",
       "    <tr>\n",
       "      <th>3</th>\n",
       "      <td>Mes</td>\n",
       "      <td>[&lt;class 'int'&gt;]</td>\n",
       "    </tr>\n",
       "    <tr>\n",
       "      <th>4</th>\n",
       "      <td>Día</td>\n",
       "      <td>[&lt;class 'int'&gt;]</td>\n",
       "    </tr>\n",
       "    <tr>\n",
       "      <th>5</th>\n",
       "      <td>Rol</td>\n",
       "      <td>[&lt;class 'str'&gt;]</td>\n",
       "    </tr>\n",
       "    <tr>\n",
       "      <th>6</th>\n",
       "      <td>Víctima</td>\n",
       "      <td>[&lt;class 'str'&gt;]</td>\n",
       "    </tr>\n",
       "    <tr>\n",
       "      <th>7</th>\n",
       "      <td>Sexo</td>\n",
       "      <td>[&lt;class 'str'&gt;]</td>\n",
       "    </tr>\n",
       "    <tr>\n",
       "      <th>8</th>\n",
       "      <td>Edad</td>\n",
       "      <td>[&lt;class 'int'&gt;]</td>\n",
       "    </tr>\n",
       "  </tbody>\n",
       "</table>\n",
       "</div>"
      ],
      "text/plain": [
       "  nombre_campo                                         tipo_datos\n",
       "0           Id                                    [<class 'str'>]\n",
       "1        Fecha  [<class 'pandas._libs.tslibs.timestamps.Timest...\n",
       "2          Año                                    [<class 'int'>]\n",
       "3          Mes                                    [<class 'int'>]\n",
       "4          Día                                    [<class 'int'>]\n",
       "5          Rol                                    [<class 'str'>]\n",
       "6      Víctima                                    [<class 'str'>]\n",
       "7         Sexo                                    [<class 'str'>]\n",
       "8         Edad                                    [<class 'int'>]"
      ]
     },
     "execution_count": 41,
     "metadata": {},
     "output_type": "execute_result"
    }
   ],
   "source": [
    "funciones.verificar_tipo_dato(df_victimas)"
   ]
  },
  {
   "cell_type": "markdown",
   "metadata": {},
   "source": [
    "### 3. Unificación de la Información"
   ]
  },
  {
   "cell_type": "markdown",
   "metadata": {},
   "source": [
    "Se realizará una unificación de las tablas Hechos y Víctimas transformadas anteriormente, para el posterior gráfico de los datos y la creación del Dashboard. Para esto vamos a eliminar las columnas 'Fecha', 'Año', 'Mes', 'Día' y 'Víctima' del df_victimas, ya que tienen los mismos datos que en el df_hechos."
   ]
  },
  {
   "cell_type": "code",
   "execution_count": 42,
   "metadata": {},
   "outputs": [
    {
     "data": {
      "text/html": [
       "<div>\n",
       "<style scoped>\n",
       "    .dataframe tbody tr th:only-of-type {\n",
       "        vertical-align: middle;\n",
       "    }\n",
       "\n",
       "    .dataframe tbody tr th {\n",
       "        vertical-align: top;\n",
       "    }\n",
       "\n",
       "    .dataframe thead th {\n",
       "        text-align: right;\n",
       "    }\n",
       "</style>\n",
       "<table border=\"1\" class=\"dataframe\">\n",
       "  <thead>\n",
       "    <tr style=\"text-align: right;\">\n",
       "      <th></th>\n",
       "      <th>Id</th>\n",
       "      <th>Rol</th>\n",
       "      <th>Sexo</th>\n",
       "      <th>Edad</th>\n",
       "      <th>Cantidad víctimas</th>\n",
       "      <th>Fecha</th>\n",
       "      <th>Año</th>\n",
       "      <th>Mes</th>\n",
       "      <th>Día</th>\n",
       "      <th>Hora completa</th>\n",
       "      <th>...</th>\n",
       "      <th>Calle</th>\n",
       "      <th>Cruce</th>\n",
       "      <th>Lugar del hecho</th>\n",
       "      <th>Comuna</th>\n",
       "      <th>XY (CABA)</th>\n",
       "      <th>Latitud</th>\n",
       "      <th>Longitud</th>\n",
       "      <th>Participantes</th>\n",
       "      <th>Víctima</th>\n",
       "      <th>Acusado</th>\n",
       "    </tr>\n",
       "  </thead>\n",
       "  <tbody>\n",
       "    <tr>\n",
       "      <th>0</th>\n",
       "      <td>2016-0001</td>\n",
       "      <td>CONDUCTOR</td>\n",
       "      <td>MASCULINO</td>\n",
       "      <td>19</td>\n",
       "      <td>1</td>\n",
       "      <td>2016-01-01</td>\n",
       "      <td>2016</td>\n",
       "      <td>1</td>\n",
       "      <td>1</td>\n",
       "      <td>04:00:00</td>\n",
       "      <td>...</td>\n",
       "      <td>PIEDRA BUENA AV.</td>\n",
       "      <td>Si</td>\n",
       "      <td>PIEDRA BUENA AV. y FERNANDEZ DE LA CRUZ, F., G...</td>\n",
       "      <td>8</td>\n",
       "      <td>Point (98896.78238426 93532.43437792)</td>\n",
       "      <td>-34.68757022</td>\n",
       "      <td>-58.47533969</td>\n",
       "      <td>MOTO-AUTO</td>\n",
       "      <td>MOTO</td>\n",
       "      <td>AUTO</td>\n",
       "    </tr>\n",
       "    <tr>\n",
       "      <th>1</th>\n",
       "      <td>2016-0002</td>\n",
       "      <td>CONDUCTOR</td>\n",
       "      <td>MASCULINO</td>\n",
       "      <td>70</td>\n",
       "      <td>1</td>\n",
       "      <td>2016-01-02</td>\n",
       "      <td>2016</td>\n",
       "      <td>1</td>\n",
       "      <td>2</td>\n",
       "      <td>01:15:00</td>\n",
       "      <td>...</td>\n",
       "      <td>PAZ, GRAL. AV.</td>\n",
       "      <td>Si</td>\n",
       "      <td>PAZ, GRAL. AV. y DE LOS CORRALES AV.</td>\n",
       "      <td>9</td>\n",
       "      <td>Point (95832.05571093 95505.41641999)</td>\n",
       "      <td>-34.66977709</td>\n",
       "      <td>-58.50877521</td>\n",
       "      <td>AUTO-PASAJEROS</td>\n",
       "      <td>AUTO</td>\n",
       "      <td>PASAJEROS</td>\n",
       "    </tr>\n",
       "    <tr>\n",
       "      <th>2</th>\n",
       "      <td>2016-0003</td>\n",
       "      <td>CONDUCTOR</td>\n",
       "      <td>MASCULINO</td>\n",
       "      <td>30</td>\n",
       "      <td>1</td>\n",
       "      <td>2016-01-03</td>\n",
       "      <td>2016</td>\n",
       "      <td>1</td>\n",
       "      <td>3</td>\n",
       "      <td>07:00:00</td>\n",
       "      <td>...</td>\n",
       "      <td>ENTRE RIOS AV.</td>\n",
       "      <td>No</td>\n",
       "      <td>ENTRE RIOS AV. 2034</td>\n",
       "      <td>1</td>\n",
       "      <td>Point (106684.29090040 99706.57687843)</td>\n",
       "      <td>-34.63189362</td>\n",
       "      <td>-58.39040293</td>\n",
       "      <td>MOTO-AUTO</td>\n",
       "      <td>MOTO</td>\n",
       "      <td>AUTO</td>\n",
       "    </tr>\n",
       "    <tr>\n",
       "      <th>3</th>\n",
       "      <td>2016-0004</td>\n",
       "      <td>CONDUCTOR</td>\n",
       "      <td>MASCULINO</td>\n",
       "      <td>18</td>\n",
       "      <td>1</td>\n",
       "      <td>2016-01-10</td>\n",
       "      <td>2016</td>\n",
       "      <td>1</td>\n",
       "      <td>10</td>\n",
       "      <td>00:00:00</td>\n",
       "      <td>...</td>\n",
       "      <td>LARRAZABAL AV.</td>\n",
       "      <td>Si</td>\n",
       "      <td>LARRAZABAL AV. y VILLEGAS, CONRADO, GRAL.</td>\n",
       "      <td>8</td>\n",
       "      <td>Point (99840.65224780 94269.16534422)</td>\n",
       "      <td>-34.68092974</td>\n",
       "      <td>-58.46503904</td>\n",
       "      <td>MOTO-SD</td>\n",
       "      <td>MOTO</td>\n",
       "      <td>SD</td>\n",
       "    </tr>\n",
       "    <tr>\n",
       "      <th>4</th>\n",
       "      <td>2016-0005</td>\n",
       "      <td>CONDUCTOR</td>\n",
       "      <td>MASCULINO</td>\n",
       "      <td>29</td>\n",
       "      <td>1</td>\n",
       "      <td>2016-01-21</td>\n",
       "      <td>2016</td>\n",
       "      <td>1</td>\n",
       "      <td>21</td>\n",
       "      <td>05:20:00</td>\n",
       "      <td>...</td>\n",
       "      <td>SAN JUAN AV.</td>\n",
       "      <td>Si</td>\n",
       "      <td>SAN JUAN AV. y SAENZ PEÃ‘A, LUIS, PRES.</td>\n",
       "      <td>1</td>\n",
       "      <td>Point (106980.32827929 100752.16915795)</td>\n",
       "      <td>-34.62246630</td>\n",
       "      <td>-58.38718297</td>\n",
       "      <td>MOTO-PASAJEROS</td>\n",
       "      <td>MOTO</td>\n",
       "      <td>PASAJEROS</td>\n",
       "    </tr>\n",
       "    <tr>\n",
       "      <th>...</th>\n",
       "      <td>...</td>\n",
       "      <td>...</td>\n",
       "      <td>...</td>\n",
       "      <td>...</td>\n",
       "      <td>...</td>\n",
       "      <td>...</td>\n",
       "      <td>...</td>\n",
       "      <td>...</td>\n",
       "      <td>...</td>\n",
       "      <td>...</td>\n",
       "      <td>...</td>\n",
       "      <td>...</td>\n",
       "      <td>...</td>\n",
       "      <td>...</td>\n",
       "      <td>...</td>\n",
       "      <td>...</td>\n",
       "      <td>...</td>\n",
       "      <td>...</td>\n",
       "      <td>...</td>\n",
       "      <td>...</td>\n",
       "      <td>...</td>\n",
       "    </tr>\n",
       "    <tr>\n",
       "      <th>712</th>\n",
       "      <td>2021-0092</td>\n",
       "      <td>PEATON</td>\n",
       "      <td>FEMENINO</td>\n",
       "      <td>50</td>\n",
       "      <td>1</td>\n",
       "      <td>2021-12-12</td>\n",
       "      <td>2021</td>\n",
       "      <td>12</td>\n",
       "      <td>12</td>\n",
       "      <td>06:20:00</td>\n",
       "      <td>...</td>\n",
       "      <td>RIVADAVIA AV.</td>\n",
       "      <td>Si</td>\n",
       "      <td>RIVADAVIA AV. y PUEYRREDON AV.</td>\n",
       "      <td>3</td>\n",
       "      <td>Point (105258.35368554 102122.93231400)</td>\n",
       "      <td>-34.61011987</td>\n",
       "      <td>-58.40596860</td>\n",
       "      <td>PEATON-AUTO</td>\n",
       "      <td>PEATON</td>\n",
       "      <td>AUTO</td>\n",
       "    </tr>\n",
       "    <tr>\n",
       "      <th>713</th>\n",
       "      <td>2021-0093</td>\n",
       "      <td>PASAJERO_ACOMPAÑANTE</td>\n",
       "      <td>FEMENINO</td>\n",
       "      <td>18</td>\n",
       "      <td>1</td>\n",
       "      <td>2021-12-13</td>\n",
       "      <td>2021</td>\n",
       "      <td>12</td>\n",
       "      <td>13</td>\n",
       "      <td>17:10:00</td>\n",
       "      <td>...</td>\n",
       "      <td>RIESTRA AV.</td>\n",
       "      <td>Si</td>\n",
       "      <td>RIESTRA AV. y MOM</td>\n",
       "      <td>7</td>\n",
       "      <td>Point (102728.60090138 98186.24929177)</td>\n",
       "      <td>-34.64561636</td>\n",
       "      <td>-58.43353773</td>\n",
       "      <td>MOTO-AUTO</td>\n",
       "      <td>MOTO</td>\n",
       "      <td>AUTO</td>\n",
       "    </tr>\n",
       "    <tr>\n",
       "      <th>714</th>\n",
       "      <td>2021-0094</td>\n",
       "      <td>PASAJERO_ACOMPAÑANTE</td>\n",
       "      <td>FEMENINO</td>\n",
       "      <td>43</td>\n",
       "      <td>1</td>\n",
       "      <td>2021-12-20</td>\n",
       "      <td>2021</td>\n",
       "      <td>12</td>\n",
       "      <td>20</td>\n",
       "      <td>01:10:00</td>\n",
       "      <td>...</td>\n",
       "      <td>DELLEPIANE, LUIS, TTE. GRAL.</td>\n",
       "      <td>Si</td>\n",
       "      <td>DELLEPIANE, LUIS, TTE. GRAL. y LACARRA AV.</td>\n",
       "      <td>9</td>\n",
       "      <td>Point (99624.29795829 97569.69801131)</td>\n",
       "      <td>-34.65117757</td>\n",
       "      <td>-58.46739825</td>\n",
       "      <td>MOTO-AUTO</td>\n",
       "      <td>MOTO</td>\n",
       "      <td>AUTO</td>\n",
       "    </tr>\n",
       "    <tr>\n",
       "      <th>715</th>\n",
       "      <td>2021-0095</td>\n",
       "      <td>CONDUCTOR</td>\n",
       "      <td>MASCULINO</td>\n",
       "      <td>27</td>\n",
       "      <td>1</td>\n",
       "      <td>2021-12-30</td>\n",
       "      <td>2021</td>\n",
       "      <td>12</td>\n",
       "      <td>30</td>\n",
       "      <td>00:43:00</td>\n",
       "      <td>...</td>\n",
       "      <td>GAONA AV.</td>\n",
       "      <td>Si</td>\n",
       "      <td>GAONA AV. y TERRADA</td>\n",
       "      <td>11</td>\n",
       "      <td>Point (99116.45492358 101045.23284826)</td>\n",
       "      <td>-34.61984745</td>\n",
       "      <td>-58.47293407</td>\n",
       "      <td>MOTO-CARGAS</td>\n",
       "      <td>MOTO</td>\n",
       "      <td>CARGAS</td>\n",
       "    </tr>\n",
       "    <tr>\n",
       "      <th>716</th>\n",
       "      <td>2021-0096</td>\n",
       "      <td>CONDUCTOR</td>\n",
       "      <td>MASCULINO</td>\n",
       "      <td>60</td>\n",
       "      <td>1</td>\n",
       "      <td>2021-12-15</td>\n",
       "      <td>2021</td>\n",
       "      <td>12</td>\n",
       "      <td>15</td>\n",
       "      <td>10:30:00</td>\n",
       "      <td>...</td>\n",
       "      <td>PERON, EVA AV.</td>\n",
       "      <td>No</td>\n",
       "      <td>PERON, EVA AV. 4071</td>\n",
       "      <td>9</td>\n",
       "      <td>Point (99324.54463985 97676.26932409)</td>\n",
       "      <td>-34.65021673</td>\n",
       "      <td>-58.47066794</td>\n",
       "      <td>AUTO-CARGAS</td>\n",
       "      <td>AUTO</td>\n",
       "      <td>CARGAS</td>\n",
       "    </tr>\n",
       "  </tbody>\n",
       "</table>\n",
       "<p>717 rows × 22 columns</p>\n",
       "</div>"
      ],
      "text/plain": [
       "            Id                   Rol       Sexo  Edad  Cantidad víctimas  \\\n",
       "0    2016-0001             CONDUCTOR  MASCULINO    19                  1   \n",
       "1    2016-0002             CONDUCTOR  MASCULINO    70                  1   \n",
       "2    2016-0003             CONDUCTOR  MASCULINO    30                  1   \n",
       "3    2016-0004             CONDUCTOR  MASCULINO    18                  1   \n",
       "4    2016-0005             CONDUCTOR  MASCULINO    29                  1   \n",
       "..         ...                   ...        ...   ...                ...   \n",
       "712  2021-0092                PEATON   FEMENINO    50                  1   \n",
       "713  2021-0093  PASAJERO_ACOMPAÑANTE   FEMENINO    18                  1   \n",
       "714  2021-0094  PASAJERO_ACOMPAÑANTE   FEMENINO    43                  1   \n",
       "715  2021-0095             CONDUCTOR  MASCULINO    27                  1   \n",
       "716  2021-0096             CONDUCTOR  MASCULINO    60                  1   \n",
       "\n",
       "         Fecha   Año  Mes  Día Hora completa  ...  \\\n",
       "0   2016-01-01  2016    1    1      04:00:00  ...   \n",
       "1   2016-01-02  2016    1    2      01:15:00  ...   \n",
       "2   2016-01-03  2016    1    3      07:00:00  ...   \n",
       "3   2016-01-10  2016    1   10      00:00:00  ...   \n",
       "4   2016-01-21  2016    1   21      05:20:00  ...   \n",
       "..         ...   ...  ...  ...           ...  ...   \n",
       "712 2021-12-12  2021   12   12      06:20:00  ...   \n",
       "713 2021-12-13  2021   12   13      17:10:00  ...   \n",
       "714 2021-12-20  2021   12   20      01:10:00  ...   \n",
       "715 2021-12-30  2021   12   30      00:43:00  ...   \n",
       "716 2021-12-15  2021   12   15      10:30:00  ...   \n",
       "\n",
       "                            Calle Cruce  \\\n",
       "0                PIEDRA BUENA AV.    Si   \n",
       "1                  PAZ, GRAL. AV.    Si   \n",
       "2                  ENTRE RIOS AV.    No   \n",
       "3                  LARRAZABAL AV.    Si   \n",
       "4                    SAN JUAN AV.    Si   \n",
       "..                            ...   ...   \n",
       "712                 RIVADAVIA AV.    Si   \n",
       "713                   RIESTRA AV.    Si   \n",
       "714  DELLEPIANE, LUIS, TTE. GRAL.    Si   \n",
       "715                     GAONA AV.    Si   \n",
       "716                PERON, EVA AV.    No   \n",
       "\n",
       "                                       Lugar del hecho Comuna  \\\n",
       "0    PIEDRA BUENA AV. y FERNANDEZ DE LA CRUZ, F., G...      8   \n",
       "1                 PAZ, GRAL. AV. y DE LOS CORRALES AV.      9   \n",
       "2                                  ENTRE RIOS AV. 2034      1   \n",
       "3            LARRAZABAL AV. y VILLEGAS, CONRADO, GRAL.      8   \n",
       "4              SAN JUAN AV. y SAENZ PEÃ‘A, LUIS, PRES.      1   \n",
       "..                                                 ...    ...   \n",
       "712                     RIVADAVIA AV. y PUEYRREDON AV.      3   \n",
       "713                                  RIESTRA AV. y MOM      7   \n",
       "714         DELLEPIANE, LUIS, TTE. GRAL. y LACARRA AV.      9   \n",
       "715                                GAONA AV. y TERRADA     11   \n",
       "716                                PERON, EVA AV. 4071      9   \n",
       "\n",
       "                                   XY (CABA)       Latitud      Longitud  \\\n",
       "0      Point (98896.78238426 93532.43437792)  -34.68757022  -58.47533969   \n",
       "1      Point (95832.05571093 95505.41641999)  -34.66977709  -58.50877521   \n",
       "2     Point (106684.29090040 99706.57687843)  -34.63189362  -58.39040293   \n",
       "3      Point (99840.65224780 94269.16534422)  -34.68092974  -58.46503904   \n",
       "4    Point (106980.32827929 100752.16915795)  -34.62246630  -58.38718297   \n",
       "..                                       ...           ...           ...   \n",
       "712  Point (105258.35368554 102122.93231400)  -34.61011987  -58.40596860   \n",
       "713   Point (102728.60090138 98186.24929177)  -34.64561636  -58.43353773   \n",
       "714    Point (99624.29795829 97569.69801131)  -34.65117757  -58.46739825   \n",
       "715   Point (99116.45492358 101045.23284826)  -34.61984745  -58.47293407   \n",
       "716    Point (99324.54463985 97676.26932409)  -34.65021673  -58.47066794   \n",
       "\n",
       "      Participantes Víctima    Acusado  \n",
       "0         MOTO-AUTO    MOTO       AUTO  \n",
       "1    AUTO-PASAJEROS    AUTO  PASAJEROS  \n",
       "2         MOTO-AUTO    MOTO       AUTO  \n",
       "3           MOTO-SD    MOTO         SD  \n",
       "4    MOTO-PASAJEROS    MOTO  PASAJEROS  \n",
       "..              ...     ...        ...  \n",
       "712     PEATON-AUTO  PEATON       AUTO  \n",
       "713       MOTO-AUTO    MOTO       AUTO  \n",
       "714       MOTO-AUTO    MOTO       AUTO  \n",
       "715     MOTO-CARGAS    MOTO     CARGAS  \n",
       "716     AUTO-CARGAS    AUTO     CARGAS  \n",
       "\n",
       "[717 rows x 22 columns]"
      ]
     },
     "execution_count": 42,
     "metadata": {},
     "output_type": "execute_result"
    }
   ],
   "source": [
    "# Eliminación de columnas\n",
    "df_victimas = df_victimas.drop(['Fecha', 'Año', 'Mes', 'Día', 'Víctima'], axis=1)\n",
    "\n",
    "# Se unifica a través de la columna Id con how='left', indicando así que todas las filas de df_victimas se deben conservar aunque no tengan coincidencia en df_hechos.\n",
    "df_homicidios = df_victimas.merge(df_hechos, on='Id', how='left')\n",
    "\n",
    "# Verificamos la fusión\n",
    "df_homicidios"
   ]
  },
  {
   "cell_type": "markdown",
   "metadata": {},
   "source": [
    "### 4. Gráficos"
   ]
  },
  {
   "cell_type": "markdown",
   "metadata": {},
   "source": [
    "En este apartado se propone visualizar patrones dentro de los datos proporcionados buscando reconocer las distribuciones de las víctimas en función del tiempo, de la cantidad de accidentes, de las caracteristicas de las victimas, de los roles involucrados y el punto de ocurrencia de los hechos. Las funciones para la creación de las gráficas se encuentran en el archivo funciones.py"
   ]
  },
  {
   "cell_type": "markdown",
   "metadata": {},
   "source": [
    "#### 4.1 Accidentes por Tipo de Calle y Cruces:"
   ]
  },
  {
   "cell_type": "markdown",
   "metadata": {},
   "source": [
    "El gráfico de la izquierda presentado muestra una clara tendencia que las Avenidas son el tipo de calle donde se concentran la mayor cantidad de accidentes, seguidas por las Calles, General Paz y las Autopistas. Esto puede deberse a que en las Avenidas se presentan varios factores como: mayor flujo vehicular, presencia de intersecciones más complejas, mayor velocidad permitida y una mayor interacción entre diferentes tipos de vehículos y peatones.\n",
    "El gráfico de la derecha indica que los cruces son puntos críticos en términos de accidentes de tránsito y, por ende, de víctimas. Esto se debe a la mayor complejidad de las maniobras y al mayor riesgo de colisiones en estos puntos."
   ]
  },
  {
   "cell_type": "code",
   "execution_count": 43,
   "metadata": {},
   "outputs": [
    {
     "data": {
      "image/png": "[encoded data removed]",
      "text/plain": [
       "<Figure size 1200x600 with 2 Axes>"
      ]
     },
     "metadata": {},
     "output_type": "display_data"
    }
   ],
   "source": [
    "funciones.accidentes_tipo_de_calle(df_homicidios)"
   ]
  },
  {
   "cell_type": "markdown",
   "metadata": {},
   "source": [
    "#### 4.2 Accidentes por Hora del Día:"
   ]
  },
  {
   "cell_type": "markdown",
   "metadata": {},
   "source": [
    "Se observan picos pronunciados en horas de la Mañana, siendo los máximos de 5am - 8am, lo que sugiere que en esos momentos la probabilidad de sufrir un accidente es significativamente mayor. Estos picos podrían coincidir con horas pico de tráfico, momentos de mayor cansancio de los conductores o cambios de turno laborales. También se identifican horas con una menor cantidad de accidentes, estas horas podrían corresponder a momentos de menor flujo vehicular o a condiciones más favorables para la conducción."
   ]
  },
  {
   "cell_type": "code",
   "execution_count": 44,
   "metadata": {},
   "outputs": [
    {
     "data": {
      "image/png": "[encoded data removed]",
      "text/plain": [
       "<Figure size 1000x600 with 1 Axes>"
      ]
     },
     "metadata": {},
     "output_type": "display_data"
    }
   ],
   "source": [
    "funciones.graficar_histograma_accidentes_hora(df_homicidios,'Hora')"
   ]
  },
  {
   "cell_type": "markdown",
   "metadata": {},
   "source": [
    "#### 4.3 Accidentes por Mes:"
   ]
  },
  {
   "cell_type": "markdown",
   "metadata": {},
   "source": [
    "Si bien hay variaciones mensuales, se puede identificar una tendencia general en la que el número de accidentes aumenta hacia finales de año, alcanzando su punto máximo en el mes de Diciembre. Períodos vacacionales y festividades suelen estar asociados con un mayor volumen de tráfico y, por consiguiente, un mayor riesgo de accidentes."
   ]
  },
  {
   "cell_type": "code",
   "execution_count": 45,
   "metadata": {},
   "outputs": [
    {
     "name": "stdout",
     "output_type": "stream",
     "text": [
      "El mes con menor cantidad de accidentes tiene 51 accidentes\n",
      "El mes con mayor cantidad de accidentes tiene 87 accidentes\n"
     ]
    },
    {
     "data": {
      "image/png": "[encoded data removed]",
      "text/plain": [
       "<Figure size 600x400 with 1 Axes>"
      ]
     },
     "metadata": {},
     "output_type": "display_data"
    }
   ],
   "source": [
    "funciones.cantidad_de_accidentes_por_mes(df_homicidios)"
   ]
  },
  {
   "cell_type": "markdown",
   "metadata": {},
   "source": [
    "#### 4.4 Accidentes por Rango Etario:"
   ]
  },
  {
   "cell_type": "markdown",
   "metadata": {},
   "source": [
    "En este apartado se analizan las cantidades de accidentes por edades, las cuales para un mejor análisis fueron divididas en los siguientes rangos etarios:\n",
    "\n",
    "- Infantes: edades menores a 15 años.\n",
    "- Jóvenes: edades entre 16 y 25 años.\n",
    "- Adultos: edades entre 26 y 50 años.\n",
    "- Adultos mayores: edades entre 51 y 70 años.\n",
    "- Ancianos: edades mayores a 71 años."
   ]
  },
  {
   "cell_type": "markdown",
   "metadata": {},
   "source": [
    "El grupo de adultos concentra la mayor cantidad de accidentes de tránsito. Esto puede deberse a diversos factores como mayor tiempo al volante, mayor cantidad de kilómetros recorridos y mayor exposición a diferentes condiciones de tráfico. Los grupos de adultos mayores y jóvenes siguen en cuanto a la cantidad de accidentes, aunque en menor proporción que los adultos. Esto podría estar relacionado con factores como la disminución de reflejos en los adultos mayores y la falta de experiencia y toma de riesgos en los jóvenes."
   ]
  },
  {
   "cell_type": "code",
   "execution_count": 46,
   "metadata": {},
   "outputs": [
    {
     "data": {
      "text/plain": [
       "<Axes: xlabel='Rango etario', ylabel='Cantidad de accidentes'>"
      ]
     },
     "execution_count": 46,
     "metadata": {},
     "output_type": "execute_result"
    },
    {
     "data": {
      "image/png": "[encoded data removed]",
      "text/plain": [
       "<Figure size 1000x600 with 1 Axes>"
      ]
     },
     "metadata": {},
     "output_type": "display_data"
    }
   ],
   "source": [
    "funciones.accidentes_por_rango_etario(df_homicidios)"
   ]
  },
  {
   "cell_type": "markdown",
   "metadata": {},
   "source": [
    "#### 4.5 Accidentes según Sexo, por Rol y Tipo de Vehículo:"
   ]
  },
  {
   "cell_type": "markdown",
   "metadata": {},
   "source": [
    "Es evidente que los hombres representan una proporción significativamente mayor en accidentes de tráfico en comparación con las mujeres. Esta disparidad puede atribuirse a diversos factores, como que solamente 4 de cada 10 mujeres sabe manejar, mientras que en los hombres la cifra asciende a 8 de cada 10 (Según estudio en CABA hecho por ANSV), diferencias en los hábitos de conducción, mayor exposición a riesgos laborales relacionados con el transporte y mayores velocidades promedio en los hombres. Los conductores y peatones son los roles con mayor número de accidentes, esto se puede deber a su exposición directa a los riesgos de la vía, por ende, se puede concluir también que las motocicletas y los peatones representan el mayor número de víctimas involucradas en accidentes."
   ]
  },
  {
   "cell_type": "code",
   "execution_count": 47,
   "metadata": {},
   "outputs": [
    {
     "data": {
      "image/png": "[encoded data removed]",
      "text/plain": [
       "<Figure size 1500x400 with 3 Axes>"
      ]
     },
     "metadata": {},
     "output_type": "display_data"
    }
   ],
   "source": [
    "funciones.cantidad_accidentes_sexo_rol_victima(df_homicidios)"
   ]
  },
  {
   "cell_type": "markdown",
   "metadata": {},
   "source": [
    "#### 4.6 Cantidad de Acusados:"
   ]
  },
  {
   "cell_type": "markdown",
   "metadata": {},
   "source": [
    "Es evidente que los automóviles y los vehículos de pasajeros (como camionetas, furgonetas, etc.) concentran la mayor cantidad de acusados, esto sugiere que son los más utilizados en la vía, lo que aumenta la probabilidad de que estén involucrados en accidentes. Los vehículos de carga ocupan el tercer lugar en cuanto a cantidad de acusados, esto podría deberse a su mayor tamaño y peso, lo que los convierte en vehículos potencialmente más peligrosos en caso de accidente."
   ]
  },
  {
   "cell_type": "code",
   "execution_count": 48,
   "metadata": {},
   "outputs": [
    {
     "data": {
      "image/png": "[encoded data removed]",
      "text/plain": [
       "<Figure size 1500x400 with 1 Axes>"
      ]
     },
     "metadata": {},
     "output_type": "display_data"
    }
   ],
   "source": [
    "funciones.cantidad_acusados(df_homicidios)"
   ]
  },
  {
   "cell_type": "markdown",
   "metadata": {},
   "source": [
    "### 5. Exportamos:"
   ]
  },
  {
   "cell_type": "markdown",
   "metadata": {},
   "source": [
    "Ya con el EDA completamente realizado, procedemos a exportar nuestro Dataframe final para continuar con la creación del Dashboard en PowerBI."
   ]
  },
  {
   "cell_type": "code",
   "execution_count": 49,
   "metadata": {},
   "outputs": [
    {
     "name": "stdout",
     "output_type": "stream",
     "text": [
      "Se guardaron correctamente los datos.\n"
     ]
    }
   ],
   "source": [
    "df_homicidios.to_csv('datos_homicidios_final.csv', index=False, encoding='utf-8')\n",
    "print('Se guardaron correctamente los datos.')"
   ]
  }
 ],
 "metadata": {
  "kernelspec": {
   "display_name": "venv",
   "language": "python",
   "name": "python3"
  },
  "language_info": {
   "codemirror_mode": {
    "name": "ipython",
    "version": 3
   },
   "file_extension": ".py",
   "mimetype": "text/x-python",
   "name": "python",
   "nbconvert_exporter": "python",
   "pygments_lexer": "ipython3",
   "version": "3.11.9"
  }
 },
 "nbformat": 4,
 "nbformat_minor": 2
}
